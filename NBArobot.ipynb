{
 "cells": [
  {
   "cell_type": "code",
   "execution_count": null,
   "metadata": {
    "colab": {
     "base_uri": "https://localhost:8080/",
     "height": 397
    },
    "id": "sZzd7RsbTJEG",
    "outputId": "83ca688c-fc51-45df-f32f-97804fb0fa8d"
   },
   "outputs": [
    {
     "name": "stdout",
     "output_type": "stream",
     "text": [
      "Collecting python-telegram-bot\n",
      "\u001b[?25l  Downloading https://files.pythonhosted.org/packages/6d/ad/e86f885ab66e54a5f813131e03bd8682ee0b3d2b6a2cde53ed7828b9ef0a/python_telegram_bot-13.0-py2.py3-none-any.whl (404kB)\n",
      "\u001b[K     |████████████████████████████████| 409kB 4.3MB/s \n",
      "\u001b[?25hCollecting APScheduler==3.6.3\n",
      "\u001b[?25l  Downloading https://files.pythonhosted.org/packages/f3/34/9ef20ed473c4fd2c3df54ef77a27ae3fc7500b16b192add4720cab8b2c09/APScheduler-3.6.3-py2.py3-none-any.whl (58kB)\n",
      "\u001b[K     |████████████████████████████████| 61kB 5.7MB/s \n",
      "\u001b[?25hCollecting cryptography\n",
      "\u001b[?25l  Downloading https://files.pythonhosted.org/packages/33/62/30f6936941d87a5ed72efb24249437824f6b2c953901245b58c91fde2f27/cryptography-3.1.1-cp35-abi3-manylinux2010_x86_64.whl (2.6MB)\n",
      "\u001b[K     |████████████████████████████████| 2.6MB 9.8MB/s \n",
      "\u001b[?25hRequirement already satisfied, skipping upgrade: decorator>=4.4.0 in /usr/local/lib/python3.6/dist-packages (from python-telegram-bot) (4.4.2)\n",
      "Requirement already satisfied, skipping upgrade: tornado>=5.1 in /usr/local/lib/python3.6/dist-packages (from python-telegram-bot) (5.1.1)\n",
      "Requirement already satisfied, skipping upgrade: certifi in /usr/local/lib/python3.6/dist-packages (from python-telegram-bot) (2020.6.20)\n",
      "Requirement already satisfied, skipping upgrade: tzlocal>=1.2 in /usr/local/lib/python3.6/dist-packages (from APScheduler==3.6.3->python-telegram-bot) (1.5.1)\n",
      "Requirement already satisfied, skipping upgrade: pytz in /usr/local/lib/python3.6/dist-packages (from APScheduler==3.6.3->python-telegram-bot) (2018.9)\n",
      "Requirement already satisfied, skipping upgrade: setuptools>=0.7 in /usr/local/lib/python3.6/dist-packages (from APScheduler==3.6.3->python-telegram-bot) (50.3.0)\n",
      "Requirement already satisfied, skipping upgrade: six>=1.4.0 in /usr/local/lib/python3.6/dist-packages (from APScheduler==3.6.3->python-telegram-bot) (1.15.0)\n",
      "Requirement already satisfied, skipping upgrade: cffi!=1.11.3,>=1.8 in /usr/local/lib/python3.6/dist-packages (from cryptography->python-telegram-bot) (1.14.3)\n",
      "Requirement already satisfied, skipping upgrade: pycparser in /usr/local/lib/python3.6/dist-packages (from cffi!=1.11.3,>=1.8->cryptography->python-telegram-bot) (2.20)\n",
      "Installing collected packages: APScheduler, cryptography, python-telegram-bot\n",
      "Successfully installed APScheduler-3.6.3 cryptography-3.1.1 python-telegram-bot-13.0\n"
     ]
    }
   ],
   "source": [
    "pip install python-telegram-bot --upgrade"
   ]
  },
  {
   "cell_type": "markdown",
   "metadata": {
    "id": "Ecl3MrIPrhrq"
   },
   "source": [
    "# 新段落"
   ]
  },
  {
   "cell_type": "code",
   "execution_count": null,
   "metadata": {
    "colab": {
     "base_uri": "https://localhost:8080/",
     "height": 53
    },
    "id": "9SDMzmmoTVP3",
    "outputId": "8b1a3158-cb6f-41a1-e51d-6926eafe5d3e"
   },
   "outputs": [
    {
     "name": "stderr",
     "output_type": "stream",
     "text": [
      "2020-10-21 12:45:19,382 - apscheduler.scheduler - INFO - Scheduler started\n"
     ]
    },
    {
     "data": {
      "text/plain": [
       "<queue.Queue at 0x7f71581e68d0>"
      ]
     },
     "execution_count": 29,
     "metadata": {
      "tags": []
     },
     "output_type": "execute_result"
    }
   ],
   "source": [
    "from telegram.ext import Updater\n",
    "updater = Updater(token='1248071901:AAHkEny2lHQS3p_PLOA94J4_G_YnKrH6DZc', use_context=True)\n",
    "dispatcher = updater.dispatcher\n",
    "import logging\n",
    "import random\n",
    "name = \"travis\"\n",
    "weather = \"cloudy\"\n",
    "responses = {\n",
    "        'hi': [\"hi,there,{0}\".format(name), \n",
    "            \"whats up,{0}\".format(name),\n",
    "            \"have a nice day,{0}\".format(name)]\n",
    "            }\n",
    "logging.basicConfig(format='%(asctime)s - %(name)s - %(levelname)s - %(message)s',\n",
    "                     level=logging.INFO)\n",
    "def start(update, context):\n",
    "    context.bot.send_message(chat_id=update.effective_chat.id, text=random.choice(responses[\"hi\"]))\n",
    "\n",
    "from telegram.ext import CommandHandler\n",
    "start_handler = CommandHandler('hi', start)\n",
    "dispatcher.add_handler(start_handler)\n",
    "updater.start_polling()"
   ]
  },
  {
   "cell_type": "code",
   "execution_count": null,
   "metadata": {
    "id": "PD5vL-ZaH-p9"
   },
   "outputs": [],
   "source": [
    "# Import the random module\n",
    "\n",
    "\n",
    "name = \"Greg\"\n",
    "weather = \"cloudy\"\n",
    "\n",
    "# Define a dictionary containing a list of responses for each message\n",
    "responses = {\n",
    "  \"what's your name?\": [\n",
    "      \"my name is {0}\".format(name),\n",
    "      \"they call me {0}\".format(name),\n",
    "      \"I go by {0}\".format(name)\n",
    "   ],\n",
    "  \"what's today's weather?\": [\n",
    "      \"the weather is {0}\".format(weather),\n",
    "      \"it's {0} today\".format(weather)\n",
    "    ],\n",
    "  \"default\": [\"default message\"]\n",
    "}\n",
    "\n",
    "def echo(update, context):\n",
    "    context.bot.send_message(chat_id=update.effective_chat.id, text=random.choice(responses[update.message.text]))\n",
    "\n",
    "from telegram.ext import MessageHandler, Filters\n",
    "echo_handler = MessageHandler(Filters.text & (~Filters.command), echo)\n",
    "dispatcher.add_handler(echo_handler)"
   ]
  },
  {
   "cell_type": "code",
   "execution_count": null,
   "metadata": {
    "id": "sSKxn9et8ScF"
   },
   "outputs": [],
   "source": [
    "from telegram.ext import Updater\n",
    "updater = Updater(token='1248071901:AAHkEny2lHQS3p_PLOA94J4_G_YnKrH6DZc', use_context=True)\n",
    "dispatcher = updater.dispatcher\n",
    "import logging\n",
    "import random\n",
    "import re\n",
    "rules = {'I want (.*)': ['What would it mean if you got {0}', \n",
    "                         'Why do you want {0}', \n",
    "                         \"What's stopping you from getting {0}\"], \n",
    "         'do you remember (.*)': ['Did you think I would forget {0}', \n",
    "                                  \"Why haven't you been able to forget {0}\", \n",
    "                                  'What about {0}', \n",
    "                                  'Yes .. and?'], \n",
    "         'do you think (.*)': ['if {0}? Absolutely.', \n",
    "                               'No chance'], \n",
    "         'if (.*)': [\"Do you really think it's likely that {0}\", \n",
    "                     'Do you wish that {0}', \n",
    "                     'What do you think about {0}', \n",
    "                     'Really--if {0}']\n",
    "        }\n",
    "\n",
    "def match_rule(rules, message):\n",
    "    response, phrase = \"default\", None\n",
    "    \n",
    "    # Iterate over the rules dictionary\n",
    "    for k in rules.keys():\n",
    "        # Create a match object\n",
    "        match =re.search(k,message)\n",
    "        if match is not None:\n",
    "            # Choose a random response\n",
    "            response = random.choice(rules[k])\n",
    "            if '{0}' in response:\n",
    "                phrase = match.group(1)\n",
    "    # Return the response and phrase\n",
    "    return response, phrase\n",
    "\n",
    "def replace_pronouns(message):\n",
    "\n",
    "    message = message.lower()\n",
    "    if 'me' in message:\n",
    "        # Replace 'me' with 'you'\n",
    "        return re.sub('me','you',message)\n",
    "    if 'my' in message:\n",
    "        # Replace 'my' with 'your'\n",
    "        return re.sub('my','your',message)\n",
    "    if 'your' in message:\n",
    "        # Replace 'your' with 'my'\n",
    "        return re.sub('your','my',message)\n",
    "    if 'you' in message:\n",
    "        # Replace 'you' with 'me'\n",
    "        return re.sub('you','me',message)\n",
    "\n",
    "    return message\n",
    "\n",
    "\n",
    "\n",
    "logging.basicConfig(format='%(asctime)s - %(name)s - %(levelname)s - %(message)s',\n",
    "                     level=logging.INFO)\n",
    "def start(update, context):\n",
    "    context.bot.send_message(chat_id=update.effective_chat.id, text=random.choice(responses[\"hi\"]))\n",
    "\n",
    "from telegram.ext import CommandHandler\n",
    "start_handler = CommandHandler('hi', start)\n",
    "dispatcher.add_handler(start_handler)\n",
    "updater.start_polling()"
   ]
  },
  {
   "cell_type": "code",
   "execution_count": null,
   "metadata": {
    "colab": {
     "base_uri": "https://localhost:8080/",
     "height": 35
    },
    "id": "Kxz0Rc8O8Sed",
    "outputId": "716d0755-0613-411e-88fc-dfb5f23c73dd"
   },
   "outputs": [
    {
     "name": "stdout",
     "output_type": "stream",
     "text": [
      "Why do you want your word\n"
     ]
    }
   ],
   "source": [
    "from telegram.ext import Updater\n",
    "import re\n",
    "import random\n",
    "updater = Updater(token='1248071901:AAHkEny2lHQS3p_PLOA94J4_G_YnKrH6DZc', use_context=True)\n",
    "dispatcher = updater.dispatcher\n",
    "rules = {'I want (.*)': ['What would it mean if you got {0}', \n",
    "                         'Why do you want {0}', \n",
    "                         \"What's stopping you from getting {0}\"], \n",
    "         'do you know (.*)': ['Did you think I would know {0}', \n",
    "                                  \"Why haven't you been able to forget {0}\",  \n",
    "                                  'Yes .. and?'], \n",
    "         'do you think (.*)': ['if {0}? Absolutely.', \n",
    "                               'No chance'], \n",
    "         'if (.*)': [\"Do you really think it's likely that {0}\", \n",
    "                     'Do you wish that {0}', \n",
    "                     'What do you think about {0}', \n",
    "                     'Really--if {0}']\n",
    "        }\n",
    "\n",
    "def match_rule(rules, message):\n",
    "    response, phrase = \"default\", None\n",
    "    \n",
    "    # Iterate over the rules dictionary\n",
    "    for k in rules.keys():\n",
    "        # Create a match object\n",
    "        match =re.search(k,message)\n",
    "        if match is not None:\n",
    "            # Choose a random response\n",
    "            response = random.choice(rules[k])\n",
    "            if '{0}' in response:\n",
    "                phrase = match.group(1)\n",
    "    # Return the response and phrase\n",
    "    return response, phrase\n",
    "\n",
    "def replace_pronouns(message):\n",
    "\n",
    "    message = message.lower()\n",
    "    if 'me' in message:\n",
    "        # Replace 'me' with 'you'\n",
    "        return re.sub('me','you',message)\n",
    "    if 'my' in message:\n",
    "        # Replace 'my' with 'your'\n",
    "        return re.sub('my','your',message)\n",
    "    if 'your' in message:\n",
    "        # Replace 'your' with 'my'\n",
    "        return re.sub('your','my',message)\n",
    "    if 'you' in message:\n",
    "        # Replace 'you' with 'me'\n",
    "        return re.sub('you','me',message)\n",
    "\n",
    "    return message\n",
    "\n",
    "def respond(message):\n",
    "    # Call match_rule\n",
    "    response, phrase = match_rule(rules, message)\n",
    "    if '{0}' in response:\n",
    "        # Replace the pronouns in the phrase\n",
    "        phrase = replace_pronouns(phrase)\n",
    "        # Include the phrase in the response\n",
    "        response = response.format(phrase)\n",
    "    return response\n",
    "\n",
    "def echo(update, context):\n",
    "    context.bot.send_message(chat_id=update.effective_chat.id, text=update.message.text)\n",
    "\n",
    "from telegram.ext import MessageHandler, Filters\n",
    "echo_handler = MessageHandler(Filters.text, echo)\n",
    "dispatcher.add_handler(echo_handler)\n",
    "updater.start_polling()\n",
    "print(respond(\"I want my word\"))"
   ]
  },
  {
   "cell_type": "code",
   "execution_count": null,
   "metadata": {
    "colab": {
     "base_uri": "https://localhost:8080/",
     "height": 719
    },
    "id": "dg1-g6378Shi",
    "outputId": "523005dc-ed2b-4499-b91b-93893d3b6545"
   },
   "outputs": [
    {
     "name": "stderr",
     "output_type": "stream",
     "text": [
      "Error while getting Updates: Conflict: terminated by other getUpdates request; make sure that only one bot instance is running\n",
      "No error handlers are registered, logging exception.\n",
      "Traceback (most recent call last):\n",
      "  File \"/usr/local/lib/python3.6/dist-packages/telegram/ext/updater.py\", line 419, in _network_loop_retry\n",
      "    if not action_cb():\n",
      "  File \"/usr/local/lib/python3.6/dist-packages/telegram/ext/updater.py\", line 376, in polling_action_cb\n",
      "    allowed_updates=allowed_updates)\n",
      "  File \"<decorator-gen-154>\", line 2, in get_updates\n",
      "  File \"/usr/local/lib/python3.6/dist-packages/telegram/bot.py\", line 78, in decorator\n",
      "    result = func(*args, **kwargs)\n",
      "  File \"/usr/local/lib/python3.6/dist-packages/telegram/bot.py\", line 2263, in get_updates\n",
      "    api_kwargs=api_kwargs)\n",
      "  File \"/usr/local/lib/python3.6/dist-packages/telegram/bot.py\", line 185, in _post\n",
      "    timeout=timeout)\n",
      "  File \"/usr/local/lib/python3.6/dist-packages/telegram/utils/request.py\", line 328, in post\n",
      "    **urlopen_kwargs)\n",
      "  File \"/usr/local/lib/python3.6/dist-packages/telegram/utils/request.py\", line 254, in _request_wrapper\n",
      "    raise Conflict(message)\n",
      "telegram.error.Conflict: Conflict: terminated by other getUpdates request; make sure that only one bot instance is running\n",
      "Error while getting Updates: Conflict: terminated by other getUpdates request; make sure that only one bot instance is running\n",
      "Error while getting Updates: Conflict: terminated by other getUpdates request; make sure that only one bot instance is running\n",
      "No error handlers are registered, logging exception.\n",
      "Traceback (most recent call last):\n",
      "  File \"/usr/local/lib/python3.6/dist-packages/telegram/ext/updater.py\", line 419, in _network_loop_retry\n",
      "    if not action_cb():\n",
      "  File \"/usr/local/lib/python3.6/dist-packages/telegram/ext/updater.py\", line 376, in polling_action_cb\n",
      "    allowed_updates=allowed_updates)\n",
      "  File \"<decorator-gen-154>\", line 2, in get_updates\n",
      "  File \"/usr/local/lib/python3.6/dist-packages/telegram/bot.py\", line 78, in decorator\n",
      "    result = func(*args, **kwargs)\n",
      "  File \"/usr/local/lib/python3.6/dist-packages/telegram/bot.py\", line 2263, in get_updates\n",
      "    api_kwargs=api_kwargs)\n",
      "  File \"/usr/local/lib/python3.6/dist-packages/telegram/bot.py\", line 185, in _post\n",
      "    timeout=timeout)\n",
      "  File \"/usr/local/lib/python3.6/dist-packages/telegram/utils/request.py\", line 328, in post\n",
      "    **urlopen_kwargs)\n",
      "  File \"/usr/local/lib/python3.6/dist-packages/telegram/utils/request.py\", line 254, in _request_wrapper\n",
      "    raise Conflict(message)\n",
      "telegram.error.Conflict: Conflict: terminated by other getUpdates request; make sure that only one bot instance is running\n"
     ]
    }
   ],
   "source": [
    "from telegram.ext import Updater\n",
    "import re\n",
    "import random\n",
    "updater = Updater(token='1248071901:AAHkEny2lHQS3p_PLOA94J4_G_YnKrH6DZc', use_context=True)\n",
    "dispatcher = updater.dispatcher\n",
    "\n",
    "keywords = {\n",
    "            'seasons': ['season', 'th', 'year'], \n",
    "            'teams': ['team', 'thx'], \n",
    "            'players': ['he', 'him','his'],\n",
    "            'games': ['game', 'date'],\n",
    "           }#创建字典\n",
    "# Define a dictionary of patterns\n",
    "patterns = {}\n",
    "\n",
    "# Iterate over the keywords dictionary\n",
    "for intent,keys in keywords.items():\n",
    "    # Create regular expressions and compile them into pattern objects\n",
    "    patterns[intent] = re.compile(\"|\".join(keys))\n",
    "\n",
    "responses = {'seasons': 'Wow ,that is a wonderful season!',\n",
    "             'teams': 'haha,i know you like this team', \n",
    "             'players': 'So you want something about him?', \n",
    "             'games': 'you wanna check the details of that game?'\n",
    "            }\n",
    "\n",
    "# Define a function to find the intent of a message\n",
    "def match_intent(message):\n",
    "    matched_intent = None\n",
    "    for intent, pattern in patterns.items():\n",
    "        # Check if the pattern occurs in the message \n",
    "        if re.search(pattern,message):\n",
    "            matched_intent = intent\n",
    "    return matched_intent\n",
    "\n",
    "# Define a respond function\n",
    "def respond(message):\n",
    "    # Call the match_intent function\n",
    "    intent = match_intent(message)\n",
    "    # Fall back to the default response\n",
    "    key = \"default\"\n",
    "    if intent in responses:\n",
    "        key = intent\n",
    "    return responses[key]\n",
    "\n",
    "def echo(update, context):\n",
    "    context.bot.send_message(chat_id=update.effective_chat.id, text=respond(update.message.text))\n",
    "    \n",
    "from telegram.ext import MessageHandler, Filters\n",
    "echo_handler = MessageHandler(Filters.text, echo)\n",
    "dispatcher.add_handler(echo_handler)\n",
    "updater.start_polling()\n",
    "updater.stop()"
   ]
  },
  {
   "cell_type": "code",
   "execution_count": null,
   "metadata": {
    "colab": {
     "base_uri": "https://localhost:8080/",
     "height": 35
    },
    "id": "Fk3qxxh3MwYW",
    "outputId": "d9b1a6f1-4b8f-44ab-b650-be7d73e886ad"
   },
   "outputs": [
    {
     "data": {
      "text/plain": [
       "<queue.Queue at 0x7f9a32037588>"
      ]
     },
     "execution_count": 22,
     "metadata": {
      "tags": []
     },
     "output_type": "execute_result"
    }
   ],
   "source": [
    "from telegram.ext import Updater\n",
    "import re\n",
    "import random\n",
    "updater = Updater(token='1248071901:AAHkEny2lHQS3p_PLOA94J4_G_YnKrH6DZc', use_context=True)\n",
    "dispatcher = updater.dispatcher\n",
    "\n",
    "import spacy\n",
    "import numpy as np\n",
    "nlp = spacy.load('en')\n",
    "\n",
    "include_entities = ['DATE', 'ORG', 'PERSON']\n",
    "\n",
    "# Define extract_entities()\n",
    "def extract_entities(message):\n",
    "    # Create a dict to hold the entities\n",
    "    ents = dict.fromkeys(include_entities)\n",
    "    # Create a spacy document\n",
    "    doc = nlp(message)\n",
    "    for ent in doc.ents:\n",
    "        if ent.label_ in include_entities:\n",
    "            # Save interesting entities\n",
    "            ents[ent.label_] = ent.text\n",
    "    return ents\n",
    "\n",
    "#print(extract_entities('friends called Mary who have worked at Google since 2010'))\n",
    "#print(extract_entities('people who graduated from MIT in 1999'))\n",
    "\n",
    "\n",
    "def echo(update, context):\n",
    "    text1='The player you want is {0}'.format(extract_entities(update.message.text)['PERSON'])\n",
    "    text2='The team you want is {0}'.format(extract_entities(update.message.text)['ORG'])\n",
    "    text3='The season you want is {0}'.format(extract_entities(update.message.text)['DATE'])\n",
    "    context.bot.send_message(chat_id=update.effective_chat.id, text=text1)\n",
    "    context.bot.send_message(chat_id=update.effective_chat.id, text=text2)\n",
    "    context.bot.send_message(chat_id=update.effective_chat.id, text=text3)\n",
    "\n",
    "from telegram.ext import MessageHandler, Filters\n",
    "echo_handler = MessageHandler(Filters.text, echo)\n",
    "dispatcher.add_handler(echo_handler)\n",
    "updater.start_polling()"
   ]
  },
  {
   "cell_type": "code",
   "execution_count": null,
   "metadata": {
    "colab": {
     "base_uri": "https://localhost:8080/",
     "height": 1000
    },
    "id": "r0ogDvG-amHA",
    "outputId": "cefd598a-66ef-4d17-d7b0-912b1d22a28b"
   },
   "outputs": [
    {
     "name": "stderr",
     "output_type": "stream",
     "text": [
      "Error while getting Updates: Conflict: terminated by other getUpdates request; make sure that only one bot instance is running\n",
      "No error handlers are registered, logging exception.\n",
      "Traceback (most recent call last):\n",
      "  File \"/usr/local/lib/python3.6/dist-packages/telegram/ext/updater.py\", line 419, in _network_loop_retry\n",
      "    if not action_cb():\n",
      "  File \"/usr/local/lib/python3.6/dist-packages/telegram/ext/updater.py\", line 376, in polling_action_cb\n",
      "    allowed_updates=allowed_updates)\n",
      "  File \"<decorator-gen-154>\", line 2, in get_updates\n",
      "  File \"/usr/local/lib/python3.6/dist-packages/telegram/bot.py\", line 78, in decorator\n",
      "    result = func(*args, **kwargs)\n",
      "  File \"/usr/local/lib/python3.6/dist-packages/telegram/bot.py\", line 2263, in get_updates\n",
      "    api_kwargs=api_kwargs)\n",
      "  File \"/usr/local/lib/python3.6/dist-packages/telegram/bot.py\", line 185, in _post\n",
      "    timeout=timeout)\n",
      "  File \"/usr/local/lib/python3.6/dist-packages/telegram/utils/request.py\", line 328, in post\n",
      "    **urlopen_kwargs)\n",
      "  File \"/usr/local/lib/python3.6/dist-packages/telegram/utils/request.py\", line 254, in _request_wrapper\n",
      "    raise Conflict(message)\n",
      "telegram.error.Conflict: Conflict: terminated by other getUpdates request; make sure that only one bot instance is running\n"
     ]
    },
    {
     "name": "stdout",
     "output_type": "stream",
     "text": [
      "Collecting rasa_nlu\n",
      "\u001b[?25l  Downloading https://files.pythonhosted.org/packages/19/c4/c6146c445a17b6ce414d773f93c941c44ca16720609000ae3d01409f9dfb/rasa_nlu-0.15.1-py3-none-any.whl (147kB)\n",
      "\u001b[K     |████████████████████████████████| 153kB 2.9MB/s \n",
      "\u001b[?25hCollecting simplejson~=3.13\n",
      "\u001b[?25l  Downloading https://files.pythonhosted.org/packages/73/96/1e6b19045375890068d7342cbe280dd64ae73fd90b9735b5efb8d1e044a1/simplejson-3.17.2-cp36-cp36m-manylinux2010_x86_64.whl (127kB)\n",
      "\u001b[K     |████████████████████████████████| 133kB 5.1MB/s \n",
      "\u001b[?25hRequirement already satisfied, skipping upgrade: numpy>=1.16 in /usr/local/lib/python3.6/dist-packages (from rasa_nlu) (1.18.5)\n",
      "Collecting scikit-learn~=0.20.2\n",
      "\u001b[?25l  Downloading https://files.pythonhosted.org/packages/96/5b/5da31a6572dc6b7b2846a7cfcbe2e060a0e6af0e1059a6516965e40371b7/scikit_learn-0.20.4-cp36-cp36m-manylinux1_x86_64.whl (5.4MB)\n",
      "\u001b[K     |████████████████████████████████| 5.4MB 5.5MB/s \n",
      "\u001b[?25hCollecting matplotlib~=2.2\n",
      "\u001b[?25l  Downloading https://files.pythonhosted.org/packages/49/cc/94dd12083678ffbfee7cf5ac8bf341b0e6dac64c422851db094e532d1524/matplotlib-2.2.5-cp36-cp36m-manylinux1_x86_64.whl (12.8MB)\n",
      "\u001b[K     |████████████████████████████████| 12.8MB 27.6MB/s \n",
      "\u001b[?25hCollecting future~=0.17.1\n",
      "\u001b[?25l  Downloading https://files.pythonhosted.org/packages/90/52/e20466b85000a181e1e144fd8305caf2cf475e2f9674e797b222f8105f5f/future-0.17.1.tar.gz (829kB)\n",
      "\u001b[K     |████████████████████████████████| 829kB 38.2MB/s \n",
      "\u001b[?25hCollecting cloudpickle~=0.6.1\n",
      "  Downloading https://files.pythonhosted.org/packages/fc/87/7b7ef3038b4783911e3fdecb5c566e3a817ce3e890e164fc174c088edb1e/cloudpickle-0.6.1-py2.py3-none-any.whl\n",
      "Requirement already satisfied, skipping upgrade: tqdm~=4.19 in /usr/local/lib/python3.6/dist-packages (from rasa_nlu) (4.41.1)\n",
      "Collecting coloredlogs~=10.0\n",
      "\u001b[?25l  Downloading https://files.pythonhosted.org/packages/08/0f/7877fc42fff0b9d70b6442df62d53b3868d3a6ad1b876bdb54335b30ff23/coloredlogs-10.0-py2.py3-none-any.whl (47kB)\n",
      "\u001b[K     |████████████████████████████████| 51kB 6.5MB/s \n"
     ]
    },
    {
     "name": "stderr",
     "output_type": "stream",
     "text": [
      "Error while getting Updates: Conflict: terminated by other getUpdates request; make sure that only one bot instance is running\n",
      "No error handlers are registered, logging exception.\n",
      "Traceback (most recent call last):\n",
      "  File \"/usr/local/lib/python3.6/dist-packages/telegram/ext/updater.py\", line 419, in _network_loop_retry\n",
      "    if not action_cb():\n",
      "  File \"/usr/local/lib/python3.6/dist-packages/telegram/ext/updater.py\", line 376, in polling_action_cb\n",
      "    allowed_updates=allowed_updates)\n",
      "  File \"<decorator-gen-154>\", line 2, in get_updates\n",
      "  File \"/usr/local/lib/python3.6/dist-packages/telegram/bot.py\", line 78, in decorator\n",
      "    result = func(*args, **kwargs)\n",
      "  File \"/usr/local/lib/python3.6/dist-packages/telegram/bot.py\", line 2263, in get_updates\n",
      "    api_kwargs=api_kwargs)\n",
      "  File \"/usr/local/lib/python3.6/dist-packages/telegram/bot.py\", line 185, in _post\n",
      "    timeout=timeout)\n",
      "  File \"/usr/local/lib/python3.6/dist-packages/telegram/utils/request.py\", line 328, in post\n",
      "    **urlopen_kwargs)\n",
      "  File \"/usr/local/lib/python3.6/dist-packages/telegram/utils/request.py\", line 254, in _request_wrapper\n",
      "    raise Conflict(message)\n",
      "telegram.error.Conflict: Conflict: terminated by other getUpdates request; make sure that only one bot instance is running\n"
     ]
    },
    {
     "name": "stdout",
     "output_type": "stream",
     "text": [
      "\u001b[?25hRequirement already satisfied, skipping upgrade: jsonschema~=2.6 in /usr/local/lib/python3.6/dist-packages (from rasa_nlu) (2.6.0)\n",
      "Collecting typing~=3.6\n",
      "\u001b[?25l  Downloading https://files.pythonhosted.org/packages/05/d9/6eebe19d46bd05360c9a9aae822e67a80f9242aabbfc58b641b957546607/typing-3.7.4.3.tar.gz (78kB)\n",
      "\u001b[K     |████████████████████████████████| 81kB 9.1MB/s \n",
      "\u001b[?25hCollecting ruamel.yaml~=0.15.7\n",
      "\u001b[?25l  Downloading https://files.pythonhosted.org/packages/e7/9f/83bb34eaf84032b0b54fcc4a6aff1858572d279d65a301c7ae875f523df5/ruamel.yaml-0.15.100-cp36-cp36m-manylinux1_x86_64.whl (656kB)\n",
      "\u001b[K     |████████████████████████████████| 665kB 40.5MB/s \n",
      "\u001b[?25hCollecting packaging~=18.0\n",
      "  Downloading https://files.pythonhosted.org/packages/89/d1/92e6df2e503a69df9faab187c684585f0136662c12bb1f36901d426f3fab/packaging-18.0-py2.py3-none-any.whl\n",
      "Collecting boto3~=1.9\n",
      "\u001b[?25l  Downloading https://files.pythonhosted.org/packages/30/3c/c9b65c398de6589c93b3c65aa27a695a6cdf7588c50a7934ad3ac6599a8a/boto3-1.16.2-py2.py3-none-any.whl (129kB)\n",
      "\u001b[K     |████████████████████████████████| 133kB 48.0MB/s \n",
      "\u001b[?25hRequirement already satisfied, skipping upgrade: requests~=2.20 in /usr/local/lib/python3.6/dist-packages (from rasa_nlu) (2.23.0)\n",
      "Collecting gevent~=1.3\n",
      "\u001b[?25l  Downloading https://files.pythonhosted.org/packages/a9/95/b53b78b15abbe547bed7381ca9c8319c86d6b646a30d0831e26c307a5fa7/gevent-1.5.0-cp36-cp36m-manylinux2010_x86_64.whl (5.1MB)\n",
      "\u001b[K     |████████████████████████████████| 5.1MB 44.7MB/s \n",
      "\u001b[?25hCollecting klein~=17.10\n",
      "  Downloading https://files.pythonhosted.org/packages/8a/6b/adc97a7bb3fb781fdd9e49177ad873c1479f87b9745271cbeda81cbb9cc8/klein-17.10.0-py2.py3-none-any.whl\n",
      "Requirement already satisfied, skipping upgrade: scipy>=0.13.3 in /usr/local/lib/python3.6/dist-packages (from scikit-learn~=0.20.2->rasa_nlu) (1.4.1)\n",
      "Requirement already satisfied, skipping upgrade: kiwisolver>=1.0.1 in /usr/local/lib/python3.6/dist-packages (from matplotlib~=2.2->rasa_nlu) (1.2.0)\n",
      "Requirement already satisfied, skipping upgrade: cycler>=0.10 in /usr/local/lib/python3.6/dist-packages (from matplotlib~=2.2->rasa_nlu) (0.10.0)\n",
      "Requirement already satisfied, skipping upgrade: pyparsing!=2.0.4,!=2.1.2,!=2.1.6,>=2.0.1 in /usr/local/lib/python3.6/dist-packages (from matplotlib~=2.2->rasa_nlu) (2.4.7)\n",
      "Requirement already satisfied, skipping upgrade: pytz in /usr/local/lib/python3.6/dist-packages (from matplotlib~=2.2->rasa_nlu) (2018.9)\n",
      "Requirement already satisfied, skipping upgrade: six>=1.10 in /usr/local/lib/python3.6/dist-packages (from matplotlib~=2.2->rasa_nlu) (1.15.0)\n",
      "Requirement already satisfied, skipping upgrade: python-dateutil>=2.1 in /usr/local/lib/python3.6/dist-packages (from matplotlib~=2.2->rasa_nlu) (2.8.1)\n",
      "Collecting humanfriendly>=4.7\n",
      "\u001b[?25l  Downloading https://files.pythonhosted.org/packages/8e/2d/2f1b0a780b8c948c06c74c8c80e68ac354da52397ba432a1c5ac1923c3af/humanfriendly-8.2-py2.py3-none-any.whl (86kB)\n",
      "\u001b[K     |████████████████████████████████| 92kB 10.2MB/s \n",
      "\u001b[?25hCollecting jmespath<1.0.0,>=0.7.1\n",
      "  Downloading https://files.pythonhosted.org/packages/07/cb/5f001272b6faeb23c1c9e0acc04d48eaaf5c862c17709d20e3469c6e0139/jmespath-0.10.0-py2.py3-none-any.whl\n",
      "Collecting botocore<1.20.0,>=1.19.2\n",
      "\u001b[?25l  Downloading https://files.pythonhosted.org/packages/1f/96/35fa364675cf17e3a190ae08716ac4b078ca86a62ef071d32cd8b86d52bc/botocore-1.19.2-py2.py3-none-any.whl (6.7MB)\n",
      "\u001b[K     |████████████████████████████████| 6.7MB 44.4MB/s \n"
     ]
    },
    {
     "name": "stderr",
     "output_type": "stream",
     "text": [
      "Error while getting Updates: Conflict: terminated by other getUpdates request; make sure that only one bot instance is running\n",
      "No error handlers are registered, logging exception.\n",
      "Traceback (most recent call last):\n",
      "  File \"/usr/local/lib/python3.6/dist-packages/telegram/ext/updater.py\", line 419, in _network_loop_retry\n",
      "    if not action_cb():\n",
      "  File \"/usr/local/lib/python3.6/dist-packages/telegram/ext/updater.py\", line 376, in polling_action_cb\n",
      "    allowed_updates=allowed_updates)\n",
      "  File \"<decorator-gen-154>\", line 2, in get_updates\n",
      "  File \"/usr/local/lib/python3.6/dist-packages/telegram/bot.py\", line 78, in decorator\n",
      "    result = func(*args, **kwargs)\n",
      "  File \"/usr/local/lib/python3.6/dist-packages/telegram/bot.py\", line 2263, in get_updates\n",
      "    api_kwargs=api_kwargs)\n",
      "  File \"/usr/local/lib/python3.6/dist-packages/telegram/bot.py\", line 185, in _post\n",
      "    timeout=timeout)\n",
      "  File \"/usr/local/lib/python3.6/dist-packages/telegram/utils/request.py\", line 328, in post\n",
      "    **urlopen_kwargs)\n",
      "  File \"/usr/local/lib/python3.6/dist-packages/telegram/utils/request.py\", line 254, in _request_wrapper\n",
      "    raise Conflict(message)\n",
      "telegram.error.Conflict: Conflict: terminated by other getUpdates request; make sure that only one bot instance is running\n"
     ]
    },
    {
     "name": "stdout",
     "output_type": "stream",
     "text": [
      "\u001b[?25hCollecting s3transfer<0.4.0,>=0.3.0\n",
      "\u001b[?25l  Downloading https://files.pythonhosted.org/packages/69/79/e6afb3d8b0b4e96cefbdc690f741d7dd24547ff1f94240c997a26fa908d3/s3transfer-0.3.3-py2.py3-none-any.whl (69kB)\n",
      "\u001b[K     |████████████████████████████████| 71kB 8.2MB/s \n",
      "\u001b[?25hRequirement already satisfied, skipping upgrade: idna<3,>=2.5 in /usr/local/lib/python3.6/dist-packages (from requests~=2.20->rasa_nlu) (2.10)\n",
      "Requirement already satisfied, skipping upgrade: urllib3!=1.25.0,!=1.25.1,<1.26,>=1.21.1 in /usr/local/lib/python3.6/dist-packages (from requests~=2.20->rasa_nlu) (1.24.3)\n",
      "Requirement already satisfied, skipping upgrade: chardet<4,>=3.0.2 in /usr/local/lib/python3.6/dist-packages (from requests~=2.20->rasa_nlu) (3.0.4)\n",
      "Requirement already satisfied, skipping upgrade: certifi>=2017.4.17 in /usr/local/lib/python3.6/dist-packages (from requests~=2.20->rasa_nlu) (2020.6.20)\n"
     ]
    },
    {
     "name": "stderr",
     "output_type": "stream",
     "text": [
      "Error while getting Updates: Conflict: terminated by other getUpdates request; make sure that only one bot instance is running\n",
      "No error handlers are registered, logging exception.\n",
      "Traceback (most recent call last):\n",
      "  File \"/usr/local/lib/python3.6/dist-packages/telegram/ext/updater.py\", line 419, in _network_loop_retry\n",
      "    if not action_cb():\n",
      "  File \"/usr/local/lib/python3.6/dist-packages/telegram/ext/updater.py\", line 376, in polling_action_cb\n",
      "    allowed_updates=allowed_updates)\n",
      "  File \"<decorator-gen-154>\", line 2, in get_updates\n",
      "  File \"/usr/local/lib/python3.6/dist-packages/telegram/bot.py\", line 78, in decorator\n",
      "    result = func(*args, **kwargs)\n",
      "  File \"/usr/local/lib/python3.6/dist-packages/telegram/bot.py\", line 2263, in get_updates\n",
      "    api_kwargs=api_kwargs)\n",
      "  File \"/usr/local/lib/python3.6/dist-packages/telegram/bot.py\", line 185, in _post\n",
      "    timeout=timeout)\n",
      "  File \"/usr/local/lib/python3.6/dist-packages/telegram/utils/request.py\", line 328, in post\n",
      "    **urlopen_kwargs)\n",
      "  File \"/usr/local/lib/python3.6/dist-packages/telegram/utils/request.py\", line 254, in _request_wrapper\n",
      "    raise Conflict(message)\n",
      "telegram.error.Conflict: Conflict: terminated by other getUpdates request; make sure that only one bot instance is running\n"
     ]
    },
    {
     "name": "stdout",
     "output_type": "stream",
     "text": [
      "Collecting greenlet>=0.4.14; platform_python_implementation == \"CPython\"\n",
      "\u001b[?25l  Downloading https://files.pythonhosted.org/packages/80/d0/532e160c777b42f6f393f9de8c88abb8af6c892037c55e4d3a8a211324dd/greenlet-0.4.17-cp36-cp36m-manylinux1_x86_64.whl (44kB)\n",
      "\u001b[K     |████████████████████████████████| 51kB 6.6MB/s \n",
      "\u001b[?25hCollecting incremental\n",
      "  Downloading https://files.pythonhosted.org/packages/f5/1d/c98a587dc06e107115cf4a58b49de20b19222c83d75335a192052af4c4b7/incremental-17.5.0-py2.py3-none-any.whl\n",
      "Collecting Twisted>=15.5\n",
      "\u001b[?25l  Downloading https://files.pythonhosted.org/packages/b7/04/1a664c9e5ec0224a1c1a154ddecaa4dc7b8967521bba225efcc41a03d5f3/Twisted-20.3.0-cp36-cp36m-manylinux1_x86_64.whl (3.1MB)\n",
      "\u001b[K     |████████████████████████████████| 3.1MB 45.3MB/s \n",
      "\u001b[?25hRequirement already satisfied, skipping upgrade: werkzeug in /usr/local/lib/python3.6/dist-packages (from klein~=17.10->rasa_nlu) (1.0.1)\n",
      "Collecting hyperlink>=17.1.1\n",
      "\u001b[?25l  Downloading https://files.pythonhosted.org/packages/88/a5/74f77547e9b175eb894d4fec5c76b0c8176c045e5bf3ac6a4d4d3feab4bb/hyperlink-20.0.1-py2.py3-none-any.whl (48kB)\n",
      "\u001b[K     |████████████████████████████████| 51kB 7.0MB/s \n",
      "\u001b[?25hRequirement already satisfied, skipping upgrade: attrs>=19.2.0 in /usr/local/lib/python3.6/dist-packages (from Twisted>=15.5->klein~=17.10->rasa_nlu) (20.2.0)\n",
      "Collecting PyHamcrest!=1.10.0,>=1.9.0\n",
      "\u001b[?25l  Downloading https://files.pythonhosted.org/packages/40/16/e54cc65891f01cb62893540f44ffd3e8dab0a22443e1b438f1a9f5574bee/PyHamcrest-2.0.2-py3-none-any.whl (52kB)\n",
      "\u001b[K     |████████████████████████████████| 61kB 7.6MB/s \n",
      "\u001b[?25hCollecting zope.interface>=4.4.2\n",
      "\u001b[?25l  Downloading https://files.pythonhosted.org/packages/c5/89/1eb9dbb9e24f5e2c29ab1a88097b2f1333858aac3cd3cccc6c4c1c8ad867/zope.interface-5.1.2-cp36-cp36m-manylinux2010_x86_64.whl (236kB)\n",
      "\u001b[K     |████████████████████████████████| 245kB 51.1MB/s \n",
      "\u001b[?25hCollecting constantly>=15.1\n",
      "  Downloading https://files.pythonhosted.org/packages/b9/65/48c1909d0c0aeae6c10213340ce682db01b48ea900a7d9fce7a7910ff318/constantly-15.1.0-py2.py3-none-any.whl\n",
      "Collecting Automat>=0.3.0\n",
      "  Downloading https://files.pythonhosted.org/packages/dd/83/5f6f3c1a562674d65efc320257bdc0873ec53147835aeef7762fe7585273/Automat-20.2.0-py2.py3-none-any.whl\n",
      "Requirement already satisfied, skipping upgrade: setuptools in /usr/local/lib/python3.6/dist-packages (from zope.interface>=4.4.2->Twisted>=15.5->klein~=17.10->rasa_nlu) (50.3.0)\n",
      "Building wheels for collected packages: future, typing\n",
      "  Building wheel for future (setup.py) ... \u001b[?25l\u001b[?25hdone\n",
      "  Created wheel for future: filename=future-0.17.1-cp36-none-any.whl size=488730 sha256=8252476761c129887974f585af462b35785758729d960c42fed6db1c95a5aed0\n",
      "  Stored in directory: /root/.cache/pip/wheels/0c/61/d2/d6b7317325828fbb39ee6ad559dbe4664d0896da4721bf379e\n",
      "  Building wheel for typing (setup.py) ... \u001b[?25l\u001b[?25hdone\n",
      "  Created wheel for typing: filename=typing-3.7.4.3-cp36-none-any.whl size=26307 sha256=14f238a4d729e43804dcbd742f869c19cd3a8678d29ef7660f76879909c89394\n",
      "  Stored in directory: /root/.cache/pip/wheels/2d/04/41/8e1836e79581989c22eebac3f4e70aaac9af07b0908da173be\n",
      "Successfully built future typing\n"
     ]
    },
    {
     "name": "stderr",
     "output_type": "stream",
     "text": [
      "Error while getting Updates: Conflict: terminated by other getUpdates request; make sure that only one bot instance is running\n",
      "No error handlers are registered, logging exception.\n",
      "Traceback (most recent call last):\n",
      "  File \"/usr/local/lib/python3.6/dist-packages/telegram/ext/updater.py\", line 419, in _network_loop_retry\n",
      "    if not action_cb():\n",
      "  File \"/usr/local/lib/python3.6/dist-packages/telegram/ext/updater.py\", line 376, in polling_action_cb\n",
      "    allowed_updates=allowed_updates)\n",
      "  File \"<decorator-gen-154>\", line 2, in get_updates\n",
      "  File \"/usr/local/lib/python3.6/dist-packages/telegram/bot.py\", line 78, in decorator\n",
      "    result = func(*args, **kwargs)\n",
      "  File \"/usr/local/lib/python3.6/dist-packages/telegram/bot.py\", line 2263, in get_updates\n",
      "    api_kwargs=api_kwargs)\n",
      "  File \"/usr/local/lib/python3.6/dist-packages/telegram/bot.py\", line 185, in _post\n",
      "    timeout=timeout)\n",
      "  File \"/usr/local/lib/python3.6/dist-packages/telegram/utils/request.py\", line 328, in post\n",
      "    **urlopen_kwargs)\n",
      "  File \"/usr/local/lib/python3.6/dist-packages/telegram/utils/request.py\", line 254, in _request_wrapper\n",
      "    raise Conflict(message)\n",
      "telegram.error.Conflict: Conflict: terminated by other getUpdates request; make sure that only one bot instance is running\n"
     ]
    },
    {
     "name": "stdout",
     "output_type": "stream",
     "text": [
      "\u001b[31mERROR: tensorflow-probability 0.11.0 has requirement cloudpickle==1.3, but you'll have cloudpickle 0.6.1 which is incompatible.\u001b[0m\n",
      "\u001b[31mERROR: plotnine 0.6.0 has requirement matplotlib>=3.1.1, but you'll have matplotlib 2.2.5 which is incompatible.\u001b[0m\n",
      "\u001b[31mERROR: mizani 0.6.0 has requirement matplotlib>=3.1.1, but you'll have matplotlib 2.2.5 which is incompatible.\u001b[0m\n",
      "\u001b[31mERROR: gym 0.17.2 has requirement cloudpickle<1.4.0,>=1.2.0, but you'll have cloudpickle 0.6.1 which is incompatible.\u001b[0m\n",
      "\u001b[31mERROR: datascience 0.10.6 has requirement folium==0.2.1, but you'll have folium 0.8.3 which is incompatible.\u001b[0m\n",
      "\u001b[31mERROR: albumentations 0.1.12 has requirement imgaug<0.2.7,>=0.2.5, but you'll have imgaug 0.2.9 which is incompatible.\u001b[0m\n",
      "\u001b[31mERROR: botocore 1.19.2 has requirement urllib3<1.26,>=1.25.4; python_version != \"3.4\", but you'll have urllib3 1.24.3 which is incompatible.\u001b[0m\n",
      "Installing collected packages: simplejson, scikit-learn, matplotlib, future, cloudpickle, humanfriendly, coloredlogs, typing, ruamel.yaml, packaging, jmespath, botocore, s3transfer, boto3, greenlet, gevent, incremental, hyperlink, PyHamcrest, zope.interface, constantly, Automat, Twisted, klein, rasa-nlu\n",
      "  Found existing installation: scikit-learn 0.22.2.post1\n",
      "    Uninstalling scikit-learn-0.22.2.post1:\n",
      "      Successfully uninstalled scikit-learn-0.22.2.post1\n",
      "  Found existing installation: matplotlib 3.2.2\n",
      "    Uninstalling matplotlib-3.2.2:\n"
     ]
    },
    {
     "name": "stderr",
     "output_type": "stream",
     "text": [
      "Error while getting Updates: Conflict: terminated by other getUpdates request; make sure that only one bot instance is running\n",
      "No error handlers are registered, logging exception.\n",
      "Traceback (most recent call last):\n",
      "  File \"/usr/local/lib/python3.6/dist-packages/telegram/ext/updater.py\", line 419, in _network_loop_retry\n",
      "    if not action_cb():\n",
      "  File \"/usr/local/lib/python3.6/dist-packages/telegram/ext/updater.py\", line 376, in polling_action_cb\n",
      "    allowed_updates=allowed_updates)\n",
      "  File \"<decorator-gen-154>\", line 2, in get_updates\n",
      "  File \"/usr/local/lib/python3.6/dist-packages/telegram/bot.py\", line 78, in decorator\n",
      "    result = func(*args, **kwargs)\n",
      "  File \"/usr/local/lib/python3.6/dist-packages/telegram/bot.py\", line 2263, in get_updates\n",
      "    api_kwargs=api_kwargs)\n",
      "  File \"/usr/local/lib/python3.6/dist-packages/telegram/bot.py\", line 185, in _post\n",
      "    timeout=timeout)\n",
      "  File \"/usr/local/lib/python3.6/dist-packages/telegram/utils/request.py\", line 328, in post\n",
      "    **urlopen_kwargs)\n",
      "  File \"/usr/local/lib/python3.6/dist-packages/telegram/utils/request.py\", line 254, in _request_wrapper\n",
      "    raise Conflict(message)\n",
      "telegram.error.Conflict: Conflict: terminated by other getUpdates request; make sure that only one bot instance is running\n",
      "Error while getting Updates: Conflict: terminated by other getUpdates request; make sure that only one bot instance is running\n",
      "No error handlers are registered, logging exception.\n",
      "Traceback (most recent call last):\n",
      "  File \"/usr/local/lib/python3.6/dist-packages/telegram/ext/updater.py\", line 419, in _network_loop_retry\n",
      "    if not action_cb():\n",
      "  File \"/usr/local/lib/python3.6/dist-packages/telegram/ext/updater.py\", line 376, in polling_action_cb\n",
      "    allowed_updates=allowed_updates)\n",
      "  File \"<decorator-gen-154>\", line 2, in get_updates\n",
      "  File \"/usr/local/lib/python3.6/dist-packages/telegram/bot.py\", line 78, in decorator\n",
      "    result = func(*args, **kwargs)\n",
      "  File \"/usr/local/lib/python3.6/dist-packages/telegram/bot.py\", line 2263, in get_updates\n",
      "    api_kwargs=api_kwargs)\n",
      "  File \"/usr/local/lib/python3.6/dist-packages/telegram/bot.py\", line 185, in _post\n",
      "    timeout=timeout)\n",
      "  File \"/usr/local/lib/python3.6/dist-packages/telegram/utils/request.py\", line 328, in post\n",
      "    **urlopen_kwargs)\n",
      "  File \"/usr/local/lib/python3.6/dist-packages/telegram/utils/request.py\", line 254, in _request_wrapper\n",
      "    raise Conflict(message)\n",
      "telegram.error.Conflict: Conflict: terminated by other getUpdates request; make sure that only one bot instance is running\n",
      "Error while getting Updates: Conflict: terminated by other getUpdates request; make sure that only one bot instance is running\n",
      "No error handlers are registered, logging exception.\n",
      "Traceback (most recent call last):\n",
      "  File \"/usr/local/lib/python3.6/dist-packages/telegram/ext/updater.py\", line 419, in _network_loop_retry\n",
      "    if not action_cb():\n",
      "  File \"/usr/local/lib/python3.6/dist-packages/telegram/ext/updater.py\", line 376, in polling_action_cb\n",
      "    allowed_updates=allowed_updates)\n",
      "  File \"<decorator-gen-154>\", line 2, in get_updates\n",
      "  File \"/usr/local/lib/python3.6/dist-packages/telegram/bot.py\", line 78, in decorator\n",
      "    result = func(*args, **kwargs)\n",
      "  File \"/usr/local/lib/python3.6/dist-packages/telegram/bot.py\", line 2263, in get_updates\n",
      "    api_kwargs=api_kwargs)\n",
      "  File \"/usr/local/lib/python3.6/dist-packages/telegram/bot.py\", line 185, in _post\n",
      "    timeout=timeout)\n",
      "  File \"/usr/local/lib/python3.6/dist-packages/telegram/utils/request.py\", line 328, in post\n",
      "    **urlopen_kwargs)\n",
      "  File \"/usr/local/lib/python3.6/dist-packages/telegram/utils/request.py\", line 254, in _request_wrapper\n",
      "    raise Conflict(message)\n",
      "telegram.error.Conflict: Conflict: terminated by other getUpdates request; make sure that only one bot instance is running\n"
     ]
    },
    {
     "name": "stdout",
     "output_type": "stream",
     "text": [
      "      Successfully uninstalled matplotlib-3.2.2\n",
      "  Found existing installation: future 0.16.0\n",
      "    Uninstalling future-0.16.0:\n",
      "      Successfully uninstalled future-0.16.0\n",
      "  Found existing installation: cloudpickle 1.3.0\n",
      "    Uninstalling cloudpickle-1.3.0:\n",
      "      Successfully uninstalled cloudpickle-1.3.0\n",
      "  Found existing installation: packaging 20.4\n",
      "    Uninstalling packaging-20.4:\n",
      "      Successfully uninstalled packaging-20.4\n"
     ]
    },
    {
     "name": "stderr",
     "output_type": "stream",
     "text": [
      "Error while getting Updates: Conflict: terminated by other getUpdates request; make sure that only one bot instance is running\n",
      "No error handlers are registered, logging exception.\n",
      "Traceback (most recent call last):\n",
      "  File \"/usr/local/lib/python3.6/dist-packages/telegram/ext/updater.py\", line 419, in _network_loop_retry\n",
      "    if not action_cb():\n",
      "  File \"/usr/local/lib/python3.6/dist-packages/telegram/ext/updater.py\", line 376, in polling_action_cb\n",
      "    allowed_updates=allowed_updates)\n",
      "  File \"<decorator-gen-154>\", line 2, in get_updates\n",
      "  File \"/usr/local/lib/python3.6/dist-packages/telegram/bot.py\", line 78, in decorator\n",
      "    result = func(*args, **kwargs)\n",
      "  File \"/usr/local/lib/python3.6/dist-packages/telegram/bot.py\", line 2263, in get_updates\n",
      "    api_kwargs=api_kwargs)\n",
      "  File \"/usr/local/lib/python3.6/dist-packages/telegram/bot.py\", line 185, in _post\n",
      "    timeout=timeout)\n",
      "  File \"/usr/local/lib/python3.6/dist-packages/telegram/utils/request.py\", line 328, in post\n",
      "    **urlopen_kwargs)\n",
      "  File \"/usr/local/lib/python3.6/dist-packages/telegram/utils/request.py\", line 254, in _request_wrapper\n",
      "    raise Conflict(message)\n",
      "telegram.error.Conflict: Conflict: terminated by other getUpdates request; make sure that only one bot instance is running\n"
     ]
    }
   ],
   "source": [
    "pip install rasa_nlu --upgrade"
   ]
  },
  {
   "cell_type": "code",
   "execution_count": null,
   "metadata": {
    "colab": {
     "base_uri": "https://localhost:8080/",
     "height": 559
    },
    "id": "Xz01QUGkcEiF",
    "outputId": "778676a9-0408-444b-d534-7a4cefd0b39f"
   },
   "outputs": [
    {
     "name": "stdout",
     "output_type": "stream",
     "text": [
      "Collecting sklearn_crfsuite\n",
      "  Downloading https://files.pythonhosted.org/packages/25/74/5b7befa513482e6dee1f3dd68171a6c9dfc14c0eaa00f885ffeba54fe9b0/sklearn_crfsuite-0.3.6-py2.py3-none-any.whl\n",
      "Requirement already satisfied: tqdm>=2.0 in /usr/local/lib/python3.6/dist-packages (from sklearn_crfsuite) (4.41.1)\n",
      "Requirement already satisfied: tabulate in /usr/local/lib/python3.6/dist-packages (from sklearn_crfsuite) (0.8.7)\n",
      "Requirement already satisfied: six in /usr/local/lib/python3.6/dist-packages (from sklearn_crfsuite) (1.15.0)\n",
      "Collecting python-crfsuite>=0.8.3\n",
      "\u001b[?25l  Downloading https://files.pythonhosted.org/packages/95/99/869dde6dbf3e0d07a013c8eebfb0a3d30776334e0097f8432b631a9a3a19/python_crfsuite-0.9.7-cp36-cp36m-manylinux1_x86_64.whl (743kB)\n",
      "\u001b[K     |████████████████████████████████| 747kB 4.0MB/s \n",
      "\u001b[?25hInstalling collected packages: python-crfsuite, sklearn-crfsuite\n",
      "Successfully installed python-crfsuite-0.9.7 sklearn-crfsuite-0.3.6\n"
     ]
    },
    {
     "name": "stderr",
     "output_type": "stream",
     "text": [
      "Error while getting Updates: Conflict: terminated by other getUpdates request; make sure that only one bot instance is running\n",
      "No error handlers are registered, logging exception.\n",
      "Traceback (most recent call last):\n",
      "  File \"/usr/local/lib/python3.6/dist-packages/telegram/ext/updater.py\", line 419, in _network_loop_retry\n",
      "    if not action_cb():\n",
      "  File \"/usr/local/lib/python3.6/dist-packages/telegram/ext/updater.py\", line 376, in polling_action_cb\n",
      "    allowed_updates=allowed_updates)\n",
      "  File \"<decorator-gen-154>\", line 2, in get_updates\n",
      "  File \"/usr/local/lib/python3.6/dist-packages/telegram/bot.py\", line 78, in decorator\n",
      "    result = func(*args, **kwargs)\n",
      "  File \"/usr/local/lib/python3.6/dist-packages/telegram/bot.py\", line 2263, in get_updates\n",
      "    api_kwargs=api_kwargs)\n",
      "  File \"/usr/local/lib/python3.6/dist-packages/telegram/bot.py\", line 185, in _post\n",
      "    timeout=timeout)\n",
      "  File \"/usr/local/lib/python3.6/dist-packages/telegram/utils/request.py\", line 328, in post\n",
      "    **urlopen_kwargs)\n",
      "  File \"/usr/local/lib/python3.6/dist-packages/telegram/utils/request.py\", line 254, in _request_wrapper\n",
      "    raise Conflict(message)\n",
      "telegram.error.Conflict: Conflict: terminated by other getUpdates request; make sure that only one bot instance is running\n"
     ]
    }
   ],
   "source": [
    "pip install sklearn_crfsuite"
   ]
  },
  {
   "cell_type": "code",
   "execution_count": null,
   "metadata": {
    "colab": {
     "base_uri": "https://localhost:8080/",
     "height": 397
    },
    "id": "zZjYxx4wae6n",
    "outputId": "5818976f-6e3d-4368-f065-c0ef9d091a46"
   },
   "outputs": [
    {
     "name": "stderr",
     "output_type": "stream",
     "text": [
      "/usr/local/lib/python3.6/dist-packages/rasa_nlu/training_data/training_data.py:176: UserWarning: Intent 'None' has only 1 training examples! Minimum is 2, training may fail.\n",
      "  self.MIN_EXAMPLES_PER_INTENT))\n",
      "/usr/local/lib/python3.6/dist-packages/rasa_nlu/training_data/training_data.py:184: UserWarning: Entity 'area' has only 1 training examples! minimum is 2, training may fail.\n",
      "  self.MIN_EXAMPLES_PER_ENTITY))\n"
     ]
    },
    {
     "name": "stdout",
     "output_type": "stream",
     "text": [
      "Fitting 2 folds for each of 6 candidates, totalling 12 fits\n",
      "{'intent': {'name': 'restaurant_search', 'confidence': 0.7045472551601746}, 'entities': [{'start': 18, 'end': 25, 'value': 'mexican', 'entity': 'cuisine', 'confidence': 0.6527388417522672, 'extractor': 'CRFEntityExtractor'}, {'start': 44, 'end': 49, 'value': 'north', 'entity': 'location', 'confidence': 0.8401302329934569, 'extractor': 'CRFEntityExtractor'}], 'intent_ranking': [{'name': 'restaurant_search', 'confidence': 0.7045472551601746}, {'name': 'hotel_search', 'confidence': 0.0683930405065596}, {'name': 'greet', 'confidence': 0.06771301498705472}, {'name': 'affirm', 'confidence': 0.06699175337586365}, {'name': 'location', 'confidence': 0.05703762724679688}, {'name': 'goodbye', 'confidence': 0.03531730872355107}], 'text': \"I'm looking for a Mexican restaurant in the North of town\"}\n"
     ]
    },
    {
     "name": "stderr",
     "output_type": "stream",
     "text": [
      "[Parallel(n_jobs=1)]: Using backend SequentialBackend with 1 concurrent workers.\n",
      "/usr/local/lib/python3.6/dist-packages/sklearn/metrics/classification.py:1143: UndefinedMetricWarning: F-score is ill-defined and being set to 0.0 in labels with no predicted samples.\n",
      "  'precision', 'predicted', average, warn_for)\n",
      "/usr/local/lib/python3.6/dist-packages/sklearn/metrics/classification.py:1143: UndefinedMetricWarning: F-score is ill-defined and being set to 0.0 in labels with no predicted samples.\n",
      "  'precision', 'predicted', average, warn_for)\n",
      "/usr/local/lib/python3.6/dist-packages/sklearn/metrics/classification.py:1143: UndefinedMetricWarning: F-score is ill-defined and being set to 0.0 in labels with no predicted samples.\n",
      "  'precision', 'predicted', average, warn_for)\n",
      "/usr/local/lib/python3.6/dist-packages/sklearn/metrics/classification.py:1143: UndefinedMetricWarning: F-score is ill-defined and being set to 0.0 in labels with no predicted samples.\n",
      "  'precision', 'predicted', average, warn_for)\n",
      "/usr/local/lib/python3.6/dist-packages/sklearn/metrics/classification.py:1143: UndefinedMetricWarning: F-score is ill-defined and being set to 0.0 in labels with no predicted samples.\n",
      "  'precision', 'predicted', average, warn_for)\n",
      "/usr/local/lib/python3.6/dist-packages/sklearn/metrics/classification.py:1143: UndefinedMetricWarning: F-score is ill-defined and being set to 0.0 in labels with no predicted samples.\n",
      "  'precision', 'predicted', average, warn_for)\n",
      "[Parallel(n_jobs=1)]: Done  12 out of  12 | elapsed:    0.0s finished\n"
     ]
    }
   ],
   "source": [
    "from rasa_nlu.training_data import load_data\n",
    "from rasa_nlu.config import RasaNLUModelConfig\n",
    "from rasa_nlu.model import Trainer\n",
    "from rasa_nlu import config\n",
    "\n",
    "# Create a trainer\n",
    "trainer = Trainer(config.load(\"config_spacy.yml\"))\n",
    "\n",
    "# Load the training data\n",
    "training_data = load_data('demo-rasa.json')\n",
    "\n",
    "# Create an interpreter by training the model\n",
    "interpreter = trainer.train(training_data)\n",
    "\n",
    "# Try it out\n",
    "print(interpreter.parse(\"I'm looking for a Mexican restaurant in the North of town\"))"
   ]
  },
  {
   "cell_type": "code",
   "execution_count": null,
   "metadata": {
    "colab": {
     "base_uri": "https://localhost:8080/",
     "height": 53
    },
    "id": "T4EIuVDYPVU0",
    "outputId": "9e98811c-ffd6-4559-edda-e0eeee44d9fb"
   },
   "outputs": [
    {
     "name": "stdout",
     "output_type": "stream",
     "text": [
      "5\n",
      "I have known only information of 5 seasons\n"
     ]
    }
   ],
   "source": [
    "import json\n",
    "import http.client\n",
    "\n",
    "conn = http.client.HTTPSConnection(\"rapidapi.p.rapidapi.com\")\n",
    "\n",
    "headers = {\n",
    "    'x-rapidapi-host': \"api-nba-v1.p.rapidapi.com\",\n",
    "    'x-rapidapi-key': \"46d84eb380mshb6c36e9eac12d4cp1b44b2jsn84cdfef9a77c\"\n",
    "    }\n",
    "\n",
    "conn.request(\"GET\", \"/seasons/{0}\".format(2018), headers=headers)\n",
    "\n",
    "res = conn.getresponse()\n",
    "data = res.read()\n",
    "\n",
    "str=data.decode(\"utf-8\")\n",
    "dict = json.loads(str)\n",
    "print(dict['api']['results'])\n",
    "text3='I have known only information of {0} seasons'.format(dict['api']['results'])\n",
    "print(text3)"
   ]
  },
  {
   "cell_type": "code",
   "execution_count": null,
   "metadata": {
    "colab": {
     "base_uri": "https://localhost:8080/",
     "height": 35
    },
    "id": "W38LueQmPgOf",
    "outputId": "de034f36-d030-4c8a-a5fa-45f36ebd981d"
   },
   "outputs": [
    {
     "name": "stdout",
     "output_type": "stream",
     "text": [
      "https://upload.wikimedia.org/wikipedia/fr/thumb/0/06/Cavs_de_Cleveland_logo_2017.png/150px-Cavs_de_Cleveland_logo_2017.png\n"
     ]
    }
   ],
   "source": [
    "import http.client\n",
    "\n",
    "conn = http.client.HTTPSConnection(\"api-nba-v1.p.rapidapi.com\")\n",
    "\n",
    "headers = {\n",
    "    'x-rapidapi-host': \"api-nba-v1.p.rapidapi.com\",\n",
    "    'x-rapidapi-key': \"46d84eb380mshb6c36e9eac12d4cp1b44b2jsn84cdfef9a77c\"\n",
    "    }\n",
    "\n",
    "conn.request(\"GET\", \"/teams/city/Cleveland\", headers=headers)\n",
    "\n",
    "res = conn.getresponse()\n",
    "data = res.read()\n",
    "\n",
    "str=data.decode(\"utf-8\")\n",
    "dict = json.loads(str)\n",
    "print(dict['api']['teams'][0]['logo'])\n",
    "text4=dict['api']['teams'][0]['logo']"
   ]
  },
  {
   "cell_type": "code",
   "execution_count": null,
   "metadata": {
    "colab": {
     "base_uri": "https://localhost:8080/",
     "height": 53
    },
    "id": "twtOuP5mPmb3",
    "outputId": "167cea31-da1d-411c-9d73-981082f19bf3"
   },
   "outputs": [
    {
     "name": "stdout",
     "output_type": "stream",
     "text": [
      "Oklahoma City\n",
      "the game took place in Oklahoma City\n"
     ]
    }
   ],
   "source": [
    "import http.client\n",
    "\n",
    "conn = http.client.HTTPSConnection(\"api-nba-v1.p.rapidapi.com\")\n",
    "\n",
    "headers = {\n",
    "    'x-rapidapi-host': \"api-nba-v1.p.rapidapi.com\",\n",
    "    'x-rapidapi-key': \"46d84eb380mshb6c36e9eac12d4cp1b44b2jsn84cdfef9a77c\"\n",
    "    }\n",
    "\n",
    "conn.request(\"GET\", \"/games/date/2018-12-24\", headers=headers)\n",
    "\n",
    "res = conn.getresponse()\n",
    "data = res.read()\n",
    "\n",
    "str=data.decode(\"utf-8\")\n",
    "dict = json.loads(str)\n",
    "print(dict['api']['games'][0]['city'])\n",
    "text2='the game took place in {0}'.format(dict['api']['games'][0]['city'])\n",
    "print(text2)"
   ]
  },
  {
   "cell_type": "code",
   "execution_count": null,
   "metadata": {
    "colab": {
     "base_uri": "https://localhost:8080/",
     "height": 53
    },
    "id": "4f2ylLOcQI26",
    "outputId": "1feb59a1-bcb0-496c-e022-bf461ba3a61a"
   },
   "outputs": [
    {
     "name": "stdout",
     "output_type": "stream",
     "text": [
      "1984-12-30\n",
      "his birthday is 1984-12-30\n"
     ]
    }
   ],
   "source": [
    "import http.client\n",
    "\n",
    "conn = http.client.HTTPSConnection(\"api-nba-v1.p.rapidapi.com\")\n",
    "\n",
    "headers = {\n",
    "    'x-rapidapi-host': \"api-nba-v1.p.rapidapi.com\",\n",
    "    'x-rapidapi-key': \"46d84eb380mshb6c36e9eac12d4cp1b44b2jsn84cdfef9a77c\"\n",
    "    }\n",
    "\n",
    "conn.request(\"GET\", \"/players/firstName/lebron\", headers=headers)\n",
    "\n",
    "res = conn.getresponse()\n",
    "data = res.read()\n",
    "\n",
    "str=data.decode(\"utf-8\")\n",
    "dict = json.loads(str)\n",
    "print(dict['api']['players'][0]['dateOfBirth'])\n",
    "text1='his birthday is {0}'.format(dict['api']['players'][0]['dateOfBirth'])\n",
    "print(text1)"
   ]
  },
  {
   "cell_type": "code",
   "execution_count": null,
   "metadata": {
    "colab": {
     "base_uri": "https://localhost:8080/",
     "height": 35
    },
    "id": "Vnn8pNypae9V",
    "outputId": "4431805c-40d7-451e-93ab-c429c7d64ae6"
   },
   "outputs": [
    {
     "data": {
      "text/plain": [
       "<queue.Queue at 0x7f3ba8cb6320>"
      ]
     },
     "execution_count": 11,
     "metadata": {
      "tags": []
     },
     "output_type": "execute_result"
    }
   ],
   "source": [
    "from telegram.ext import Updater\n",
    "import re\n",
    "import random\n",
    "updater = Updater(token='1248071901:AAHkEny2lHQS3p_PLOA94J4_G_YnKrH6DZc', use_context=True)\n",
    "dispatcher = updater.dispatcher\n",
    "\n",
    "keywords = {\n",
    "            'seasons': ['season', 'th', 'year'], \n",
    "            'teams': ['team', 'thx'], \n",
    "            'players': ['player'],\n",
    "            'games': ['game', 'date'],\n",
    "           }#创建字典\n",
    "\n",
    "# Define a dictionary of patterns\n",
    "patterns = {}\n",
    "\n",
    "# Iterate over the keywords dictionary\n",
    "for intent,keys in keywords.items():\n",
    "    # Create regular expressions and compile them into pattern objects\n",
    "    patterns[intent] = re.compile(\"|\".join(keys))\n",
    "\n",
    "responses = {'seasons': 'Wow ,that is a wonderful season!',\n",
    "             'teams': 'haha,i know you like this team', \n",
    "             'players': 'So you want something about him?', \n",
    "             'games': 'you wanna check the details of that game?',\n",
    "            \n",
    "            }\n",
    "\n",
    "# Define a function to find the intent of a message\n",
    "def match_intent(message):\n",
    "    matched_intent = None\n",
    "    for intent, pattern in patterns.items():\n",
    "        # Check if the pattern occurs in the message \n",
    "        if re.search(pattern,message):\n",
    "            matched_intent = intent\n",
    "    return matched_intent\n",
    "\n",
    "# Define a respond function\n",
    "def respond(message):\n",
    "    # Call the match_intent function\n",
    "    intent = match_intent(message)\n",
    "    # Fall back to the default response\n",
    "    key = \"default\"\n",
    "    if intent in responses:\n",
    "        key = intent\n",
    "    return responses[key]\n",
    "\n",
    "include_entities = ['DATE', 'ORG', 'PERSON']\n",
    "\n",
    "# Define extract_entities()\n",
    "def extract_entities(message):\n",
    "    # Create a dict to hold the entities\n",
    "    ents = dict.fromkeys(include_entities)\n",
    "    # Create a spacy document\n",
    "    doc = nlp(message)\n",
    "    for ent in doc.ents:\n",
    "        if ent.label_ in include_entities:\n",
    "            # Save interesting entities\n",
    "            ents[ent.label_] = ent.text\n",
    "    return ents\n",
    "\n",
    "def echo(update, context):\n",
    "    if (matched_intent== none):\n",
    "        context.bot.send_message(chat_id=update.effective_chat.id, text=respond(update.message.text))\n",
    "    else if (matched_intent==players):\n",
    "        conn.request(\"GET\", \"/players/firstName/{0}\".format(extract_entities(update.message.text)['PERSON']), headers=headers)\n",
    "        context.bot.send_message(chat_id=update.effective_chat.id, text=text1)\n",
    "        matched_intent=none\n",
    "    else if (matched_intent==teams)\n",
    "        conn.request(\"GET\", \"/teams/city/{0}\".format(extract_entities(update.message.text)['ORG']), headers=headers)\n",
    "        context.bot.send_message(chat_id=update.effective_chat.id, text=text2)\n",
    "        matched_intent=none\n",
    "    else if (matched_intent==games)\n",
    "        conn.request(\"GET\", \"/games/date/{0}\".format(extract_entities(update.message.text)['ORG']), headers=headers)\n",
    "        context.bot.send_message(chat_id=update.effective_chat.id, text=text3)\n",
    "        matched_intent=none\n",
    "    else if (matched_intent==seasons)\n",
    "        conn.request(\"GET\", \"/seasons/date/{0}\".format(extract_entities(update.message.text)['DATE']), headers=headers)\n",
    "        context.bot.send_message(chat_id=update.effective_chat.id, text=text4)\n",
    "        matched_intent=none\n",
    "\n",
    "    \n",
    "from telegram.ext import MessageHandler, Filters\n",
    "echo_handler = MessageHandler(Filters.text, echo)\n",
    "dispatcher.add_handler(echo_handler)\n",
    "updater.start_polling()"
   ]
  },
  {
   "cell_type": "code",
   "execution_count": 1,
   "metadata": {},
   "outputs": [
    {
     "name": "stdout",
     "output_type": "stream",
     "text": [
      "USER : I'd like to order some coffee\n",
      "BOT : you'll have to log in first, what's your phone number?\n",
      "USER : 555-12345\n",
      "BOT : perfect, welcome back!\n",
      "BOT : would you like Columbian or Kenyan?\n",
      "USER : kenyan\n",
      "BOT : perfect, the beans are on their way!\n",
      "BOT : would you like Columbian or Kenyan?\n"
     ]
    }
   ],
   "source": [
    "from telegram.ext import Updater\n",
    "import re\n",
    "import random\n",
    "updater = Updater(token='1248071901:AAHkEny2lHQS3p_PLOA94J4_G_YnKrH6DZc', use_context=True)\n",
    "dispatcher = updater.dispatcher\n",
    "\n",
    "import string\n",
    "\n",
    "def send_message(state, pending, message):\n",
    "    print(\"USER : {}\".format(message))\n",
    "    new_state, response, pending_state = policy_rules[(state, interpret(message))]\n",
    "    print(\"BOT : {}\".format(response))\n",
    "    if pending is not None:\n",
    "        new_state, response, pending_state = policy_rules[pending]\n",
    "        print(\"BOT : {}\".format(response))        \n",
    "    if pending_state is not None:\n",
    "        pending = (pending_state, interpret(message))\n",
    "    return new_state, pending\n",
    "\n",
    "def interpret(message):\n",
    "    msg = message.lower()\n",
    "    if 'order' in msg:\n",
    "        return 'order'\n",
    "    if 'kenyan' in msg or 'columbian' in msg:\n",
    "        return 'specify_coffee'\n",
    "    if any([d in msg for d in string.digits]):\n",
    "        return 'number'    \n",
    "    return 'none'\n",
    "\n",
    "# Define the states\n",
    "INIT=0\n",
    "SEASON=1\n",
    "PLAYER=2\n",
    "GAME=3\n",
    "TEAM=4\n",
    "\n",
    "# Define the policy rules\n",
    "policy_rules = {\n",
    "    (INIT, \"season\"): (SEASON, \"I have Known only information of 5 seasons\", None),\n",
    "    (INIT, \"player\"): (PLAYER, \"so you want something about him?\", None),\n",
    "    (INIT, \"game\"): (GAME, \"You wanna check the details of that game?\", None),\n",
    "    (INIT, \"team\"): (TEAM, \"haha,I know you like this team\", None),\n",
    "    (PLAYER, \"birthday\"): (PLAYER, \"his birthday is {0}\".format(dict['api']['players'][0]['dateOfBirth']), None),    \n",
    "    (GAME, \"date\"): (GAME, \"the game took place in {0}\".format(dict['api']['games'][0]['city']), None)\n",
    "    (TEAM,\"logo\"):(TEAM,\"dict['api']['teams'][0]['logo']\",None)\n",
    "    (SEASON,\"th\"):(SEASON,\"wow,that is a wonderful season!\",None)\n",
    "}\n",
    "\n",
    "        \n",
    "def echo(update, context):\n",
    "    new_state, response, pending_state = policy_rules[(state, interpret(update.message.text))]\n",
    "    context.bot.send_message(chat_id=update.effective_chat.id, text=response)\n",
    "\n",
    "from telegram.ext import MessageHandler, Filters\n",
    "echo_handler = MessageHandler(Filters.text, echo)\n",
    "dispatcher.add_handler(echo_handler)\n",
    "updater.start_polling()"
   ]
  },
  {
   "cell_type": "code",
   "execution_count": null,
   "metadata": {},
   "outputs": [],
   "source": []
  }
 ],
 "metadata": {
  "colab": {
   "collapsed_sections": [],
   "name": "MITproject.ipynb",
   "provenance": []
  },
  "kernelspec": {
   "display_name": "Python 3",
   "language": "python",
   "name": "python3"
  },
  "language_info": {
   "codemirror_mode": {
    "name": "ipython",
    "version": 3
   },
   "file_extension": ".py",
   "mimetype": "text/x-python",
   "name": "python",
   "nbconvert_exporter": "python",
   "pygments_lexer": "ipython3",
   "version": "3.8.3"
  }
 },
 "nbformat": 4,
 "nbformat_minor": 1
}
