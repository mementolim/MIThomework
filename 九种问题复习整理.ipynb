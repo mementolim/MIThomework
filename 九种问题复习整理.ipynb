{
 "cells": [
  {
   "cell_type": "code",
   "execution_count": null,
   "metadata": {},
   "outputs": [],
   "source": [
    "1）同一个问题多种选择性的回答，并提供缺省回答的方案；\n",
    "       2）能通过正则表达式、模式匹配、关键词提取、句法转换等来回答问题；\n",
    "       3）能通过正则表达式、最近邻分类法或者支持向量机之一或多种方案来提取用户意图；\n",
    "       4）通过预建的命名实体类型、角色关系、依赖分析等来进行命名实体识别；\n",
    "       5）基于Rasa NLU的本地基础聊天机器人系统的构建；"
   ]
  },
  {
   "cell_type": "code",
   "execution_count": null,
   "metadata": {},
   "outputs": [],
   "source": [
    "1）同一个问题多种选择性的回答，并提供缺省回答的方案；"
   ]
  },
  {
   "cell_type": "code",
   "execution_count": 3,
   "metadata": {},
   "outputs": [
    {
     "name": "stdout",
     "output_type": "stream",
     "text": [
      "USER : what's today's weather?\n",
      "BOT : I don't know :(\n",
      "USER : what's today's weather?\n",
      "BOT : you tell me!\n",
      "USER : I love building chatbots\n",
      "BOT : I find that extremely interesting\n",
      "USER : I love building chatbots\n",
      "BOT : oh wow!\n"
     ]
    }
   ],
   "source": [
    "bot_template = \"BOT : {0}\"\n",
    "user_template = \"USER : {0}\"\n",
    "import random\n",
    "responses = {'statement': ['tell me more!', \n",
    "                           'why do you think that?', \n",
    "                           'how long have you felt this way?', \n",
    "                           'I find that extremely interesting', \n",
    "                           'can you back that up?', 'oh wow!', ':)'], \n",
    "             'question': [\"I don't know :(\", \n",
    "                          'you tell me!']\n",
    "            }\n",
    "\n",
    "def respond(message):\n",
    "    # Check for a question mark\n",
    "    if message.endswith(\"?\"):\n",
    "        # Return a random question\n",
    "        return random.choice(responses[\"question\"])\n",
    "    # Return a random statement\n",
    "    return random.choice(responses[\"statement\"])\n",
    "\n",
    "# Define a function that sends a message to the bot: send_message\n",
    "def send_message(message):\n",
    "    # Print user_template including the user_message\n",
    "    print(user_template.format(message))\n",
    "    # Get the bot's response to the message\n",
    "    response = respond(message)\n",
    "    # Print the bot template including the bot's response.\n",
    "    print(bot_template.format(response))\n",
    "\n",
    "# Send a message to the bot\n",
    "#send_message(\"hello\")\n",
    "\n",
    "# Send messages ending in a question mark\n",
    "send_message(\"what's today's weather?\")\n",
    "send_message(\"what's today's weather?\")\n",
    "\n",
    "# Send messages which don't end with a question mark\n",
    "send_message(\"I love building chatbots\")\n",
    "send_message(\"I love building chatbots\")"
   ]
  },
  {
   "cell_type": "code",
   "execution_count": 3,
   "metadata": {},
   "outputs": [
    {
     "name": "stdout",
     "output_type": "stream",
     "text": [
      "USER : what's today's weather?\n",
      "BOT : it's cloudy today\n"
     ]
    }
   ],
   "source": [
    "# Import the random module\n",
    "\n",
    "\n",
    "name = \"Greg\"\n",
    "weather = \"cloudy\"\n",
    "\n",
    "# Define a dictionary containing a list of responses for each message\n",
    "responses = {\n",
    "  \"what's your name?\": [\n",
    "      \"my name is {0}\".format(name),\n",
    "      \"they call me {0}\".format(name),\n",
    "      \"I go by {0}\".format(name)\n",
    "   ],\n",
    "  \"what's today's weather?\": [\n",
    "      \"the weather is {0}\".format(weather),\n",
    "      \"it's {0} today\".format(weather)\n",
    "    ],\n",
    "  \"default\": [\"default message\"]\n",
    "}\n",
    "\n",
    "# Use random.choice() to choose a matching response\n",
    "def respond(message):\n",
    "    # Check if the message is in the responses\n",
    "    if message in responses:\n",
    "        # Return a random matching response\n",
    "        bot_message = random.choice(responses[message])\n",
    "    else:\n",
    "        # Return a random \"default\" response\n",
    "        bot_message = random.choice(responses[\"default\"])\n",
    "    return bot_message\n",
    "\n",
    "send_message(\"what's today's weather?\")"
   ]
  },
  {
   "cell_type": "code",
   "execution_count": null,
   "metadata": {},
   "outputs": [],
   "source": [
    "2）能通过正则表达式、模式匹配、关键词提取、句法转换等来回答问题；"
   ]
  },
  {
   "cell_type": "code",
   "execution_count": 3,
   "metadata": {},
   "outputs": [
    {
     "name": "stdout",
     "output_type": "stream",
     "text": [
      "('Did you think I would forget {0}', 'your last birthday')\n"
     ]
    }
   ],
   "source": [
    "import re\n",
    "rules = {'I want (.*)': ['What would it mean if you got {0}', \n",
    "                         'Why do you want {0}', \n",
    "                         \"What's stopping you from getting {0}\"], \n",
    "         'do you remember (.*)': ['Did you think I would forget {0}', \n",
    "                                  \"Why haven't you been able to forget {0}\", \n",
    "                                  'What about {0}', \n",
    "                                  'Yes .. and?'], \n",
    "         'do you think (.*)': ['if {0}? Absolutely.', \n",
    "                               'No chance'], \n",
    "         'if (.*)': [\"Do you really think it's likely that {0}\", \n",
    "                     'Do you wish that {0}', \n",
    "                     'What do you think about {0}', \n",
    "                     'Really--if {0}']\n",
    "        }\n",
    "\n",
    "# Define match_rule()\n",
    "def match_rule(rules, message):\n",
    "    response, phrase = \"default\", None\n",
    "    \n",
    "    # Iterate over the rules dictionary\n",
    "    for k in rules.keys():\n",
    "        # Create a match object\n",
    "        match =re.search(k,message)\n",
    "        if match is not None:\n",
    "            # Choose a random response\n",
    "            response = random.choice(rules[k])\n",
    "            if '{0}' in response:\n",
    "                phrase = match.group(1)\n",
    "    # Return the response and phrase\n",
    "    return response, phrase\n",
    "\n",
    "# Test match_rule\n",
    "print(match_rule(rules, \"do you remember your last birthday\"))"
   ]
  },
  {
   "cell_type": "code",
   "execution_count": 4,
   "metadata": {},
   "outputs": [
    {
     "name": "stdout",
     "output_type": "stream",
     "text": [
      "your last birthday\n",
      "when me went to florida\n",
      "i had your own castle\n"
     ]
    }
   ],
   "source": [
    "# Define replace_pronouns()\n",
    "def replace_pronouns(message):\n",
    "\n",
    "    message = message.lower()\n",
    "    if 'me' in message:\n",
    "        # Replace 'me' with 'you'\n",
    "        return re.sub('me','you',message)\n",
    "    if 'my' in message:\n",
    "        # Replace 'my' with 'your'\n",
    "        return re.sub('my','your',message)\n",
    "    if 'your' in message:\n",
    "        # Replace 'your' with 'my'\n",
    "        return re.sub('your','my',message)\n",
    "    if 'you' in message:\n",
    "        # Replace 'you' with 'me'\n",
    "        return re.sub('you','me',message)\n",
    "\n",
    "    return message\n",
    "\n",
    "print(replace_pronouns(\"my last birthday\"))\n",
    "print(replace_pronouns(\"when you went to Florida\"))\n",
    "print(replace_pronouns(\"I had my own castle\"))"
   ]
  },
  {
   "cell_type": "code",
   "execution_count": 5,
   "metadata": {},
   "outputs": [
    {
     "name": "stdout",
     "output_type": "stream",
     "text": [
      "USER : do you remember your last birthday\n",
      "BOT : Why haven't you been able to forget my last birthday\n",
      "USER : do you think humans should be worried about AI\n",
      "BOT : if humans should be worried about ai? Absolutely.\n",
      "USER : I want a robot friend\n",
      "BOT : What would it mean if you got a robot friend\n",
      "USER : what if you could be anything you wanted\n",
      "BOT : Do you wish that me could be anything me wanted\n"
     ]
    }
   ],
   "source": [
    "# Define respond()\n",
    "def respond(message):\n",
    "    # Call match_rule\n",
    "    response, phrase = match_rule(rules, message)\n",
    "    if '{0}' in response:\n",
    "        # Replace the pronouns in the phrase\n",
    "        phrase = replace_pronouns(phrase)\n",
    "        # Include the phrase in the response\n",
    "        response = response.format(phrase)\n",
    "    return response\n",
    "\n",
    "# Send the messages\n",
    "send_message(\"do you remember your last birthday\")\n",
    "send_message(\"do you think humans should be worried about AI\")\n",
    "send_message(\"I want a robot friend\")\n",
    "send_message(\"what if you could be anything you wanted\")"
   ]
  },
  {
   "cell_type": "code",
   "execution_count": 7,
   "metadata": {},
   "outputs": [],
   "source": [
    "#正则表达式匹配 re.search(a,b)\n",
    "#re.search.group(0)一整句group(1)(.*)部分"
   ]
  },
  {
   "cell_type": "code",
   "execution_count": null,
   "metadata": {},
   "outputs": [],
   "source": [
    "3）能通过正则表达式、最近邻分类法或者支持向量机之一或多种方案来提取用户意图；"
   ]
  },
  {
   "cell_type": "code",
   "execution_count": 4,
   "metadata": {},
   "outputs": [
    {
     "name": "stdout",
     "output_type": "stream",
     "text": [
      "{'seasons': re.compile('season|th|year'), 'teams': re.compile('team|thx'), 'players': re.compile('he|him|his'), 'games': re.compile('game|date')}\n"
     ]
    }
   ],
   "source": [
    "import re\n",
    "keywords = {\n",
    "            'seasons': ['season', 'th', 'year'], \n",
    "            'teams': ['team', 'thx'], \n",
    "            'players': ['he', 'him','his'],\n",
    "            'games': ['game', 'date'],\n",
    "           }#创建字典\n",
    "# Define a dictionary of patterns\n",
    "patterns = {}\n",
    "\n",
    "# Iterate over the keywords dictionary\n",
    "for intent,keys in keywords.items():\n",
    "    # Create regular expressions and compile them into pattern objects\n",
    "    patterns[intent] = re.compile(\"|\".join(keys))\n",
    "    \n",
    "# Print the patterns\n",
    "print(patterns)"
   ]
  },
  {
   "cell_type": "code",
   "execution_count": 6,
   "metadata": {},
   "outputs": [
    {
     "name": "stdout",
     "output_type": "stream",
     "text": [
      "USER : season\n",
      "BOT : Wow ,that is a wonderful season!\n",
      "USER : him\n",
      "BOT : So you want something about him?\n",
      "USER : date\n",
      "BOT : you wanna check the details of that game?\n"
     ]
    }
   ],
   "source": [
    "responses = {'seasons': 'Wow ,that is a wonderful season!',\n",
    "             'teams': 'haha,i know you like this team', \n",
    "             'players': 'So you want something about him?', \n",
    "             'games': 'you wanna check the details of that game?'\n",
    "            }\n",
    "\n",
    "# Define a function to find the intent of a message\n",
    "def match_intent(message):\n",
    "    matched_intent = None\n",
    "    for intent, pattern in patterns.items():\n",
    "        # Check if the pattern occurs in the message \n",
    "        if re.search(pattern,message):\n",
    "            matched_intent = intent\n",
    "    return matched_intent\n",
    "\n",
    "# Define a respond function\n",
    "def respond(message):\n",
    "    # Call the match_intent function\n",
    "    intent = match_intent(message)\n",
    "    # Fall back to the default response\n",
    "    key = \"default\"\n",
    "    if intent in responses:\n",
    "        key = intent\n",
    "    return responses[key]\n",
    "\n",
    "# Send messages\n",
    "send_message(\"season\")\n",
    "send_message(\"him\")\n",
    "send_message(\"date\")"
   ]
  },
  {
   "cell_type": "code",
   "execution_count": 12,
   "metadata": {},
   "outputs": [],
   "source": [
    "#分为几步，首先是用re.compile()把一个字典的右侧compile ，左边是意图，右边是代表这个意图可能出现的词或者句子\n",
    "#第二步，遍历pattern字典，搜索出现的词来对应intent\n",
    "#在responses字典中寻找intent对应的回复"
   ]
  },
  {
   "cell_type": "code",
   "execution_count": null,
   "metadata": {},
   "outputs": [],
   "source": [
    "4）通过预建的命名实体类型、角色关系、依赖分析等来进行命名实体识别；"
   ]
  },
  {
   "cell_type": "code",
   "execution_count": 8,
   "metadata": {},
   "outputs": [],
   "source": [
    "import spacy\n",
    "import numpy as np\n",
    "nlp = spacy.load('en')"
   ]
  },
  {
   "cell_type": "code",
   "execution_count": 17,
   "metadata": {},
   "outputs": [
    {
     "name": "stdout",
     "output_type": "stream",
     "text": [
      "{'DATE': '2010', 'ORG': 'Google', 'PERSON': 'Lebron james'}\n",
      "The player you want is Lebron james\n",
      "The team you want is Google\n",
      "The season you want is 2010\n"
     ]
    }
   ],
   "source": [
    "## Using spaCy's entity recogniser\n",
    "\n",
    "# Define included entities\n",
    "include_entities = ['DATE', 'ORG', 'PERSON']\n",
    "\n",
    "# Define extract_entities()\n",
    "def extract_entities(message):\n",
    "    # Create a dict to hold the entities\n",
    "    ents = dict.fromkeys(include_entities)\n",
    "    # Create a spacy document\n",
    "    doc = nlp(message)\n",
    "    for ent in doc.ents:\n",
    "        if ent.label_ in include_entities:\n",
    "            # Save interesting entities\n",
    "            ents[ent.label_] = ent.text\n",
    "    return ents\n",
    "\n",
    "text1='The player you want is {0}'.format(conn.request(\"GET\", \"/teams/city/Cleveland\", headers=headers))\n",
    "text2='The team you want is {0}'.format(extract_entities('friends called Lebron james who have worked at Google since 2010')['ORG'])\n",
    "text3='The season you want is {0}'.format(extract_entities('friends called Lebron james who have worked at Google since 2010')['DATE'])\n",
    "\n",
    "print(extract_entities('friends called Lebron james who have worked at Google since 2010'))\n",
    "print(text1)\n",
    "print(text2)\n",
    "print(text3)"
   ]
  },
  {
   "cell_type": "code",
   "execution_count": null,
   "metadata": {},
   "outputs": [],
   "source": [
    "5）基于Rasa NLU的本地基础聊天机器人系统的构建；\n",
    "       6）数据库查询并使用自然语言探索数据库内容（提取参数、创建查询、响应）\n",
    "       7）基于增量过滤器的单轮多次增量查询技术以及甄别否定实体技术\n",
    "       8）实现状态机的多轮多次查询技术，并能基于语境问题提供解释和回答\n",
    "       9）处理拒绝、等待状态转换和待定行动的多轮多次查询技术\n"
   ]
  },
  {
   "cell_type": "code",
   "execution_count": 12,
   "metadata": {},
   "outputs": [
    {
     "name": "stderr",
     "output_type": "stream",
     "text": [
      "D:\\anaconda\\envs\\MITproject\\lib\\site-packages\\rasa_nlu\\training_data\\training_data.py:176: UserWarning: Intent 'None' has only 1 training examples! Minimum is 2, training may fail.\n",
      "  self.MIN_EXAMPLES_PER_INTENT))\n",
      "D:\\anaconda\\envs\\MITproject\\lib\\site-packages\\rasa_nlu\\training_data\\training_data.py:184: UserWarning: Entity 'area' has only 1 training examples! minimum is 2, training may fail.\n",
      "  self.MIN_EXAMPLES_PER_ENTITY))\n"
     ]
    },
    {
     "name": "stdout",
     "output_type": "stream",
     "text": [
      "Fitting 2 folds for each of 6 candidates, totalling 12 fits\n",
      "{'intent': {'name': 'restaurant_search', 'confidence': 0.7557001821568343}, 'entities': [], 'intent_ranking': [{'name': 'restaurant_search', 'confidence': 0.7557001821568343}, {'name': 'greet', 'confidence': 0.06843176366962572}, {'name': 'affirm', 'confidence': 0.06529717729407698}, {'name': 'goodbye', 'confidence': 0.06053391723472587}, {'name': 'hotel_search', 'confidence': 0.031452282218862}, {'name': 'location', 'confidence': 0.01858467742587517}], 'text': \"I'm looking for a player called lebron\"}\n"
     ]
    },
    {
     "name": "stderr",
     "output_type": "stream",
     "text": [
      "[Parallel(n_jobs=1)]: Using backend SequentialBackend with 1 concurrent workers.\n",
      "[Parallel(n_jobs=1)]: Done  12 out of  12 | elapsed:    0.0s finished\n"
     ]
    }
   ],
   "source": [
    "# Import necessary modules\n",
    "from rasa_nlu.training_data import load_data\n",
    "from rasa_nlu.config import RasaNLUModelConfig\n",
    "from rasa_nlu.model import Trainer\n",
    "from rasa_nlu import config\n",
    "\n",
    "\n",
    "# Create a trainer\n",
    "trainer = Trainer(config.load(\"config_spacy.yml\"))\n",
    "\n",
    "# Load the training data\n",
    "training_data = load_data('demo-rasa.json')\n",
    "\n",
    "# Create an interpreter by training the model\n",
    "interpreter = trainer.train(training_data)\n",
    "\n",
    "# Try it out\n",
    "print(interpreter.parse(\"I'm looking for a player called lebron\"))"
   ]
  },
  {
   "cell_type": "code",
   "execution_count": 19,
   "metadata": {},
   "outputs": [
    {
     "name": "stdout",
     "output_type": "stream",
     "text": [
      "{'intent': {'name': 'restaurant_search', 'confidence': 0.6535283876964398}, 'entities': [{'start': 8, 'end': 15, 'value': 'chinese', 'entity': 'cuisine', 'confidence': 0.6057065130162513, 'extractor': 'CRFEntityExtractor', 'processors': ['EntitySynonymMapper']}, {'start': 28, 'end': 34, 'value': 'centre', 'entity': 'location', 'confidence': 0.9343784028432665, 'extractor': 'CRFEntityExtractor'}], 'intent_ranking': [{'name': 'restaurant_search', 'confidence': 0.6535283876964398}, {'name': 'location', 'confidence': 0.10818291425067801}, {'name': 'greet', 'confidence': 0.07613746617320412}, {'name': 'hotel_search', 'confidence': 0.06080333368474942}, {'name': 'goodbye', 'confidence': 0.05104784531648469}, {'name': 'affirm', 'confidence': 0.050300052878444315}], 'text': 'show me Chinese food in the centre of town'}\n",
      "{'intent': {'name': 'restaurant_search', 'confidence': 0.703297262735067}, 'entities': [{'start': 10, 'end': 16, 'value': 'indian', 'entity': 'cuisine', 'confidence': 0.8010084607918555, 'extractor': 'CRFEntityExtractor'}, {'start': 35, 'end': 39, 'value': 'west', 'entity': 'location', 'confidence': 0.8313945895151044, 'extractor': 'CRFEntityExtractor'}], 'intent_ranking': [{'name': 'restaurant_search', 'confidence': 0.703297262735067}, {'name': 'hotel_search', 'confidence': 0.11354599721918325}, {'name': 'affirm', 'confidence': 0.05525760936128185}, {'name': 'goodbye', 'confidence': 0.047962546811098954}, {'name': 'greet', 'confidence': 0.04560565134322395}, {'name': 'location', 'confidence': 0.03433093253014521}], 'text': 'I want an Indian restaurant in the west'}\n",
      "{'intent': {'name': 'restaurant_search', 'confidence': 0.5311358130965089}, 'entities': [{'start': 39, 'end': 45, 'value': 'center', 'entity': 'location', 'confidence': 0.4956520778184529, 'extractor': 'CRFEntityExtractor'}], 'intent_ranking': [{'name': 'restaurant_search', 'confidence': 0.5311358130965089}, {'name': 'affirm', 'confidence': 0.1450025850705496}, {'name': 'hotel_search', 'confidence': 0.11026635438014482}, {'name': 'greet', 'confidence': 0.08595996550531602}, {'name': 'goodbye', 'confidence': 0.07525673075944868}, {'name': 'location', 'confidence': 0.052378551188032245}], 'text': 'are there any good pizza places in the center?'}\n"
     ]
    }
   ],
   "source": [
    "print(interpreter.parse(\"show me Chinese food in the centre of town\"))\n",
    "print(interpreter.parse(\"I want an Indian restaurant in the west\"))\n",
    "print(interpreter.parse(\"are there any good pizza places in the center?\"))"
   ]
  },
  {
   "cell_type": "code",
   "execution_count": 21,
   "metadata": {},
   "outputs": [
    {
     "name": "stdout",
     "output_type": "stream",
     "text": [
      "{'intent': {'name': 'restaurant_search', 'confidence': 0.6535283876964398}, 'entities': [{'start': 8, 'end': 15, 'value': 'chinese', 'entity': 'cuisine', 'confidence': 0.6057065130162513, 'extractor': 'CRFEntityExtractor', 'processors': ['EntitySynonymMapper']}, {'start': 28, 'end': 34, 'value': 'centre', 'entity': 'location', 'confidence': 0.9343784028432665, 'extractor': 'CRFEntityExtractor'}], 'intent_ranking': [{'name': 'restaurant_search', 'confidence': 0.6535283876964398}, {'name': 'location', 'confidence': 0.10818291425067801}, {'name': 'greet', 'confidence': 0.07613746617320412}, {'name': 'hotel_search', 'confidence': 0.06080333368474942}, {'name': 'goodbye', 'confidence': 0.05104784531648469}, {'name': 'affirm', 'confidence': 0.050300052878444315}], 'text': 'show me Chinese food in the centre of town'}\n"
     ]
    }
   ],
   "source": [
    "print(interpreter.parse(\"show me Chinese food in the centre of town\"))"
   ]
  },
  {
   "cell_type": "code",
   "execution_count": null,
   "metadata": {},
   "outputs": [],
   "source": [
    "{'intent': {'name': 'restaurant_search', 'confidence': 0.6535283876964398}, \n",
    " 'entities': [{'start': 8, 'end': 15, 'value': 'chinese', 'entity': 'cuisine', 'confidence': 0.6057065130162513, 'extractor': 'CRFEntityExtractor', 'processors': ['EntitySynonymMapper']}, {'start': 28, 'end': 34, 'value': 'centre', 'entity': 'location', 'confidence': 0.9343784028432665, 'extractor': 'CRFEntityExtractor'}], 'intent_ranking': [{'name': 'restaurant_search', 'confidence': 0.6535283876964398}, {'name': 'location', 'confidence': 0.10818291425067801}, {'name': 'greet', 'confidence': 0.07613746617320412}, {'name': 'hotel_search', 'confidence': 0.06080333368474942}, {'name': 'goodbye', 'confidence': 0.05104784531648469}, {'name': 'affirm', 'confidence': 0.050300052878444315}], 'text': 'show me Chinese food in the centre of town'}\n"
   ]
  },
  {
   "cell_type": "code",
   "execution_count": 9,
   "metadata": {},
   "outputs": [
    {
     "ename": "SyntaxError",
     "evalue": "invalid character in identifier (<ipython-input-9-e0baf375cbdf>, line 1)",
     "output_type": "error",
     "traceback": [
      "\u001b[1;36m  File \u001b[1;32m\"<ipython-input-9-e0baf375cbdf>\"\u001b[1;36m, line \u001b[1;32m1\u001b[0m\n\u001b[1;33m    6）数据库查询并使用自然语言探索数据库内容（提取参数、创建查询、响应）\u001b[0m\n\u001b[1;37m                                      ^\u001b[0m\n\u001b[1;31mSyntaxError\u001b[0m\u001b[1;31m:\u001b[0m invalid character in identifier\n"
     ]
    }
   ],
   "source": [
    "6）数据库查询并使用自然语言探索数据库内容（提取参数、创建查询、响应）"
   ]
  },
  {
   "cell_type": "code",
   "execution_count": 10,
   "metadata": {},
   "outputs": [
    {
     "name": "stdout",
     "output_type": "stream",
     "text": [
      "[('Hotel for Dogs', 'mid', 'east', 3)]\n"
     ]
    }
   ],
   "source": [
    "# Import sqlite3\n",
    "import sqlite3\n",
    "\n",
    "# Open connection to DB\n",
    "conn = sqlite3.connect('hotels.db')\n",
    "\n",
    "# Create a cursor\n",
    "c = conn.cursor()\n",
    "\n",
    "# Define area and price\n",
    "location, price = \"east\", \"mid\"\n",
    "t = (location, price)\n",
    "\n",
    "# Execute the query\n",
    "c.execute('SELECT * FROM hotels WHERE location=? AND price=?', t)\n",
    "\n",
    "# Print the results\n",
    "print(c.fetchall())"
   ]
  },
  {
   "cell_type": "code",
   "execution_count": 13,
   "metadata": {},
   "outputs": [
    {
     "name": "stdout",
     "output_type": "stream",
     "text": [
      "['2015', '2016', '2017', '2018', '2019']\n"
     ]
    }
   ],
   "source": [
    "import json\n",
    "import http.client\n",
    "\n",
    "conn = http.client.HTTPSConnection(\"rapidapi.p.rapidapi.com\")\n",
    "\n",
    "headers = {\n",
    "    'x-rapidapi-host': \"api-nba-v1.p.rapidapi.com\",\n",
    "    'x-rapidapi-key': \"46d84eb380mshb6c36e9eac12d4cp1b44b2jsn84cdfef9a77c\"\n",
    "    }\n",
    "\n",
    "conn.request(\"GET\", \"/seasons/{0}\".format(2018), headers=headers)\n",
    "\n",
    "res = conn.getresponse()\n",
    "data = res.read()\n",
    "\n",
    "str=data.decode(\"utf-8\")\n",
    "dict = json.loads(str)\n",
    "print(dict['api']['seasons'])"
   ]
  },
  {
   "cell_type": "code",
   "execution_count": 18,
   "metadata": {},
   "outputs": [
    {
     "name": "stdout",
     "output_type": "stream",
     "text": [
      "{\"api\":{\"status\":200,\"message\":\"GET players\\/firstName\\/lebron\",\"results\":1,\"filters\":[\"playerId\",\"teamId\",\"league\",\"country\",\"lastName\",\"firstName\"],\"players\":[{\"firstName\":\"LeBron\",\"lastName\":\"James\",\"teamId\":\"17\",\"yearsPro\":\"16\",\"collegeName\":\"St. Vincent-St. Mary HS (OH)\",\"country\":\"USA\",\"playerId\":\"265\",\"dateOfBirth\":\"1984-12-30\",\"affiliation\":\"St. Vincent-St. Mary HS (OH)\\/USA\",\"startNba\":\"2003\",\"heightInMeters\":\"2.06\",\"weightInKilograms\":\"113.4\",\"leagues\":{\"standard\":{\"jersey\":\"23\",\"active\":\"1\",\"pos\":\"F\"}}}]}}\n"
     ]
    }
   ],
   "source": [
    "import http.client\n",
    "\n",
    "conn = http.client.HTTPSConnection(\"rapidapi.p.rapidapi.com\")\n",
    "\n",
    "headers = {\n",
    "    'x-rapidapi-host': \"api-nba-v1.p.rapidapi.com\",\n",
    "    'x-rapidapi-key': \"46d84eb380mshb6c36e9eac12d4cp1b44b2jsn84cdfef9a77c\"\n",
    "    }\n",
    "\n",
    "conn.request(\"GET\", \"/players/firstName/{0}\".format('lebron'), headers=headers)\n",
    "\n",
    "res = conn.getresponse()\n",
    "data = res.read()\n",
    "\n",
    "print(data.decode(\"utf-8\"))"
   ]
  },
  {
   "cell_type": "code",
   "execution_count": 16,
   "metadata": {},
   "outputs": [
    {
     "name": "stdout",
     "output_type": "stream",
     "text": [
      "{\"api\":{\"status\":200,\"message\":\"GET players\\/firstName\\/lebron\",\"results\":1,\"filters\":[\"playerId\",\"teamId\",\"league\",\"country\",\"lastName\",\"firstName\"],\"players\":[{\"firstName\":\"LeBron\",\"lastName\":\"James\",\"teamId\":\"17\",\"yearsPro\":\"16\",\"collegeName\":\"St. Vincent-St. Mary HS (OH)\",\"country\":\"USA\",\"playerId\":\"265\",\"dateOfBirth\":\"1984-12-30\",\"affiliation\":\"St. Vincent-St. Mary HS (OH)\\/USA\",\"startNba\":\"2003\",\"heightInMeters\":\"2.06\",\"weightInKilograms\":\"113.4\",\"leagues\":{\"standard\":{\"jersey\":\"23\",\"active\":\"1\",\"pos\":\"F\"}}}]}}\n"
     ]
    }
   ],
   "source": [
    "import http.client\n",
    "\n",
    "conn = http.client.HTTPSConnection(\"rapidapi.p.rapidapi.com\")\n",
    "\n",
    "headers = {\n",
    "    'x-rapidapi-host': \"api-nba-v1.p.rapidapi.com\",\n",
    "    'x-rapidapi-key': \"46d84eb380mshb6c36e9eac12d4cp1b44b2jsn84cdfef9a77c\"\n",
    "    }\n",
    "\n",
    "conn.request(\"GET\", \"/players/firstName/lebron\", headers=headers)\n",
    "conn.request(\"GET\", \"/players/firstName/{0}\".format(lebron), headers=headers)\n",
    "\n",
    "res = conn.getresponse()\n",
    "data = res.read()\n",
    "\n",
    "print(data.decode(\"utf-8\"))"
   ]
  },
  {
   "cell_type": "code",
   "execution_count": 11,
   "metadata": {},
   "outputs": [
    {
     "name": "stdout",
     "output_type": "stream",
     "text": [
      "[('Cozy Cottage', 'lo', 'south', 2)]\n"
     ]
    }
   ],
   "source": [
    "# Define find_hotels()\n",
    "def find_hotels(params):\n",
    "    # Create the base query\n",
    "    query = 'SELECT * FROM hotels'\n",
    "    # Add filter clauses for each of the parameters\n",
    "    if len(params) > 0:\n",
    "        filters = [\"{}=?\".format(k) for k in params]\n",
    "        query += \" where \" + \" and \".join(filters)\n",
    "    # Create the tuple of values\n",
    "    t = tuple(params.values())\n",
    "    \n",
    "    # Open connection to DB\n",
    "    conn = sqlite3.connect(\"hotels.db\")\n",
    "    # Create a cursor\n",
    "    c = conn.cursor()\n",
    "    # Execute the query\n",
    "    c.execute(query,t)#这行很重要\n",
    "    # Return the results\n",
    "    return c.fetchall()\n",
    "\n",
    "# Create the dictionary of column names and values\n",
    "params = {'location':'south','price':'lo'}\n",
    "\n",
    "# Find the hotels that match the parameters\n",
    "print(find_hotels(params))"
   ]
  },
  {
   "cell_type": "code",
   "execution_count": 12,
   "metadata": {},
   "outputs": [
    {
     "name": "stdout",
     "output_type": "stream",
     "text": [
      "Grand Hotel is a great hotel!\n"
     ]
    }
   ],
   "source": [
    "# Define respond()\n",
    "responses = [\n",
    "    \"I'm sorry :( I couldn't find anything like that\", \n",
    "    '{} is a great hotel!', \n",
    "    '{} or {} would work!', \n",
    "    '{} is one option, but I know others too :)'\n",
    "]\n",
    "\n",
    "def respond(message):\n",
    "    # Extract the entities\n",
    "    entities = interpreter.parse(message)[\"entities\"]\n",
    "    # Initialize an empty params dictionary\n",
    "    params = {}\n",
    "    # Fill the dictionary with entities\n",
    "    for ent in entities:\n",
    "        params[ent[\"entity\"]] = str(ent[\"value\"])\n",
    "\n",
    "    # Find hotels that match the dictionary\n",
    "    results = find_hotels(params)\n",
    "    # Get the names of the hotels and index of the response\n",
    "    names = [r[0] for r in results]\n",
    "    n = min(len(results),3)\n",
    "    # Select the nth element of the responses array\n",
    "    return responses[n].format(*names)\n",
    "\n",
    "print(respond(\"I want an expensive hotel in the south town\"))"
   ]
  },
  {
   "cell_type": "code",
   "execution_count": 6,
   "metadata": {},
   "outputs": [
    {
     "ename": "SyntaxError",
     "evalue": "invalid character in identifier (<ipython-input-6-9b2ea913541c>, line 1)",
     "output_type": "error",
     "traceback": [
      "\u001b[1;36m  File \u001b[1;32m\"<ipython-input-6-9b2ea913541c>\"\u001b[1;36m, line \u001b[1;32m1\u001b[0m\n\u001b[1;33m    7）基于增量过滤器的单轮多次增量查询技术以及甄别否定实体技术\u001b[0m\n\u001b[1;37m                                 ^\u001b[0m\n\u001b[1;31mSyntaxError\u001b[0m\u001b[1;31m:\u001b[0m invalid character in identifier\n"
     ]
    }
   ],
   "source": [
    "7）基于增量过滤器的单轮多次增量查询技术以及甄别否定实体技术"
   ]
  },
  {
   "cell_type": "code",
   "execution_count": 13,
   "metadata": {},
   "outputs": [
    {
     "name": "stdout",
     "output_type": "stream",
     "text": [
      "USER: I want an expensive hotel\n",
      "BOT: Grand Hotel is one option, but I know others too :)\n",
      "USER: in the north of town\n",
      "BOT: Bens BnB is a great hotel!\n"
     ]
    }
   ],
   "source": [
    "# Define a respond function, taking the message and existing params as input\n",
    "def respond(message, params):\n",
    "    # Extract the entities\n",
    "    entities = interpreter.parse(message)[\"entities\"]\n",
    "    # Fill the dictionary with entities\n",
    "    for ent in entities:\n",
    "        params[ent[\"entity\"]] = str(ent[\"value\"])\n",
    "\n",
    "    # Find the hotels\n",
    "    results = find_hotels(params)\n",
    "    names = [r[0] for r in results]\n",
    "    n = min(len(results), 3)\n",
    "    # Return the appropriate response\n",
    "    return responses[n].format(*names), params\n",
    "\n",
    "# Initialize params dictionary\n",
    "params = {}\n",
    "\n",
    "# Pass the messages to the bot\n",
    "for message in [\"I want an expensive hotel\", \"in the north of town\"]:\n",
    "    print(\"USER: {}\".format(message))\n",
    "    response, params = respond(message, params)\n",
    "    print(\"BOT: {}\".format(response))"
   ]
  },
  {
   "cell_type": "code",
   "execution_count": 14,
   "metadata": {},
   "outputs": [
    {
     "name": "stdout",
     "output_type": "stream",
     "text": [
      "True\n",
      "True\n",
      "True\n",
      "True\n"
     ]
    }
   ],
   "source": [
    "tests= [\n",
    "    (\"no I don't want to be in the south\", {'south': False}), \n",
    "    ('no it should be in the south', {'south': True}), \n",
    "    ('no in the south not the north', {'north': False, 'south': True}), \n",
    "    ('not north', {'north': False})\n",
    "]\n",
    "\n",
    "# Define negated_ents()\n",
    "def negated_ents(phrase):\n",
    "    # Extract the entities using keyword matching\n",
    "    ents = [e for e in [\"south\", \"north\"] if e in phrase]\n",
    "    # Find the index of the final character of each entity\n",
    "    ends = sorted([phrase.index(e) + len(e) for e in ents])\n",
    "    # Initialise a list to store sentence chunks\n",
    "    chunks = []\n",
    "    # Take slices of the sentence up to and including each entitiy\n",
    "    start = 0\n",
    "    for end in ends:\n",
    "        chunks.append(phrase[start:end])\n",
    "        start = end\n",
    "    result = {}\n",
    "    # Iterate over the chunks and look for entities\n",
    "    for chunk in chunks:\n",
    "        for ent in ents:\n",
    "            if ent in chunk:\n",
    "                # If the entity is preceeded by a negation, give it the key False\n",
    "                if \"not\" in chunk or \"n't\" in chunk:\n",
    "                    result[ent] = False\n",
    "                else:\n",
    "                    result[ent] = True\n",
    "    return result  \n",
    "\n",
    "# Check that the entities are correctly assigned as True or False\n",
    "for test in tests:\n",
    "    print(negated_ents(test[0]) == test[1])"
   ]
  },
  {
   "cell_type": "code",
   "execution_count": null,
   "metadata": {},
   "outputs": [],
   "source": [
    "8）实现状态机的多轮多次查询技术，并能基于语境问题提供解释和回答\n"
   ]
  },
  {
   "cell_type": "code",
   "execution_count": 15,
   "metadata": {},
   "outputs": [],
   "source": [
    "def send_message(policy, state, message):\n",
    "    print(\"USER : {}\".format(message))\n",
    "    new_state, response = respond(policy, state, message)\n",
    "    print(\"BOT : {}\".format(response))\n",
    "    return new_state\n",
    "\n",
    "def respond(policy, state, message):\n",
    "    (new_state, response) = policy[(state, interpret(message))]\n",
    "    return new_state, response\n",
    "\n",
    "def interpret(message):\n",
    "    msg = message.lower()\n",
    "    if 'order' in msg:\n",
    "        return 'order'\n",
    "    if 'kenyan' in msg or 'columbian' in msg:\n",
    "        return 'specify_coffee'\n",
    "    return 'none'"
   ]
  },
  {
   "cell_type": "code",
   "execution_count": 16,
   "metadata": {},
   "outputs": [
    {
     "name": "stdout",
     "output_type": "stream",
     "text": [
      "USER : I'd like to become a professional dancer\n",
      "BOT : I'm sorry - I'm not sure how to help you\n",
      "USER : well then I'd like to order some coffee\n",
      "BOT : ok, Colombian or Kenyan?\n",
      "USER : my favourite animal is a zebra\n",
      "BOT : I'm sorry - would you like Colombian or Kenyan?\n",
      "USER : kenyan\n",
      "BOT : perfect, the beans are on their way!\n"
     ]
    }
   ],
   "source": [
    "# Define the INIT state\n",
    "INIT = 0\n",
    "\n",
    "# Define the CHOOSE_COFFEE state\n",
    "CHOOSE_COFFEE = 1\n",
    "\n",
    "# Define the ORDERED state\n",
    "ORDERED = 2\n",
    "\n",
    "# Define the policy rules\n",
    "policy = {\n",
    "    (INIT, \"order\"): (CHOOSE_COFFEE, \"ok, Colombian or Kenyan?\"),\n",
    "    (INIT, \"none\"): (INIT, \"I'm sorry - I'm not sure how to help you\"),\n",
    "    (CHOOSE_COFFEE, \"specify_coffee\"): (ORDERED, \"perfect, the beans are on their way!\"),\n",
    "    (CHOOSE_COFFEE, \"none\"): (CHOOSE_COFFEE, \"I'm sorry - would you like Colombian or Kenyan?\"),\n",
    "}\n",
    "\n",
    "# Create the list of messages\n",
    "messages = [\n",
    "    \"I'd like to become a professional dancer\",\n",
    "    \"well then I'd like to order some coffee\",\n",
    "    \"my favourite animal is a zebra\",\n",
    "    \"kenyan\"\n",
    "]\n",
    "\n",
    "# Call send_message() for each message\n",
    "state = INIT\n",
    "for message in messages:    \n",
    "    state = send_message(policy, state, message)"
   ]
  },
  {
   "cell_type": "code",
   "execution_count": null,
   "metadata": {},
   "outputs": [],
   "source": [
    " 9）处理拒绝、等待状态转换和待定行动的多轮多次查询技术"
   ]
  },
  {
   "cell_type": "code",
   "execution_count": 23,
   "metadata": {},
   "outputs": [],
   "source": [
    "def policy(intent):\n",
    "    # Return \"do_pending\" if the intent is \"affirm\"\n",
    "    if intent == \"affirm\":\n",
    "        return \"do_pending\", None\n",
    "    # Return \"Ok\" if the intent is \"deny\"\n",
    "    if intent == \"deny\":\n",
    "        return \"Ok\", None\n",
    "    if intent == \"order\":\n",
    "        return \"Unfortunately, the Kenyan coffee is currently out of stock, would you like to order the Brazilian beans?\", \"Alright, I've ordered that for you!\""
   ]
  },
  {
   "cell_type": "code",
   "execution_count": 24,
   "metadata": {},
   "outputs": [],
   "source": [
    "def interpret(message):\n",
    "    msg = message.lower()\n",
    "    if 'order' in msg:\n",
    "        return 'order'\n",
    "    elif 'yes' in msg:\n",
    "        return 'affirm'\n",
    "    elif 'no' in msg:\n",
    "        return 'deny'\n",
    "    return 'none'"
   ]
  },
  {
   "cell_type": "code",
   "execution_count": 28,
   "metadata": {},
   "outputs": [
    {
     "name": "stdout",
     "output_type": "stream",
     "text": [
      "USER : I'd like to order some coffee\n",
      "BOT : Unfortunately, the Kenyan coffee is currently out of stock, would you like to order the Brazilian beans?\n",
      "USER : ok yes please\n",
      "BOT : Alright, I've ordered that for you!\n"
     ]
    }
   ],
   "source": [
    "# Define send_message()\n",
    "def send_message(pending,message):\n",
    "    print(\"USER : {}\".format(message))\n",
    "    action, pending_action = policy(interpret(message))\n",
    "    if action == \"do_pending\" and pending is not None:\n",
    "        print(\"BOT : {}\".format(pending))\n",
    "    else:\n",
    "        print(\"BOT : {}\".format(action))\n",
    "    return pending_action\n",
    "    \n",
    "# Define send_messages()\n",
    "def send_messages(messages):\n",
    "    pending_action = None\n",
    "    for msg in messages:\n",
    "        pending_action = send_message(pending_action, msg)\n",
    "\n",
    "# Send the messages\n",
    "send_messages([\n",
    "    \"I'd like to order some coffee\",\n",
    "    \"ok yes please\"\n",
    "])"
   ]
  },
  {
   "cell_type": "code",
   "execution_count": 29,
   "metadata": {},
   "outputs": [],
   "source": [
    "import string\n",
    "\n",
    "def send_message(state, pending, message):\n",
    "    print(\"USER : {}\".format(message))\n",
    "    new_state, response, pending_state = policy_rules[(state, interpret(message))]\n",
    "    print(\"BOT : {}\".format(response))\n",
    "    if pending is not None:\n",
    "        new_state, response, pending_state = policy_rules[pending]\n",
    "        print(\"BOT : {}\".format(response))        \n",
    "    if pending_state is not None:\n",
    "        pending = (pending_state, interpret(message))\n",
    "    return new_state, pending\n",
    "\n",
    "def interpret(message):\n",
    "    msg = message.lower()\n",
    "    if 'order' in msg:\n",
    "        return 'order'\n",
    "    if 'kenyan' in msg or 'columbian' in msg:\n",
    "        return 'specify_coffee'\n",
    "    if any([d in msg for d in string.digits]):\n",
    "        return 'number'    \n",
    "    return 'none'"
   ]
  },
  {
   "cell_type": "code",
   "execution_count": 30,
   "metadata": {},
   "outputs": [
    {
     "name": "stdout",
     "output_type": "stream",
     "text": [
      "USER : I'd like to order some coffee\n",
      "BOT : you'll have to log in first, what's your phone number?\n",
      "USER : 555-12345\n",
      "BOT : perfect, welcome back!\n",
      "BOT : would you like Columbian or Kenyan?\n",
      "USER : kenyan\n",
      "BOT : perfect, the beans are on their way!\n",
      "BOT : would you like Columbian or Kenyan?\n"
     ]
    }
   ],
   "source": [
    "# Define the states\n",
    "INIT=0\n",
    "AUTHED=1\n",
    "CHOOSE_COFFEE=2\n",
    "ORDERED=3\n",
    "\n",
    "# Define the policy rules\n",
    "policy_rules = {\n",
    "    (INIT, \"order\"): (INIT, \"you'll have to log in first, what's your phone number?\", AUTHED),\n",
    "    (INIT, \"number\"): (AUTHED, \"perfect, welcome back!\", None),\n",
    "    (AUTHED, \"order\"): (CHOOSE_COFFEE, \"would you like Columbian or Kenyan?\", None),    \n",
    "    (CHOOSE_COFFEE, \"specify_coffee\"): (ORDERED, \"perfect, the beans are on their way!\", None)\n",
    "}\n",
    "\n",
    "# Define send_messages()\n",
    "def send_messages(messages):\n",
    "    state = INIT\n",
    "    pending = None\n",
    "    for msg in messages:\n",
    "        state, pending = send_message(state, pending, msg)\n",
    "\n",
    "# Send the messages\n",
    "send_messages([\n",
    "    \"I'd like to order some coffee\",\n",
    "    \"555-12345\",\n",
    "    \"kenyan\"\n",
    "])\n"
   ]
  }
 ],
 "metadata": {
  "kernelspec": {
   "display_name": "MITproject",
   "language": "python",
   "name": "mitproject"
  },
  "language_info": {
   "codemirror_mode": {
    "name": "ipython",
    "version": 3
   },
   "file_extension": ".py",
   "mimetype": "text/x-python",
   "name": "python",
   "nbconvert_exporter": "python",
   "pygments_lexer": "ipython3",
   "version": "3.7.8"
  }
 },
 "nbformat": 4,
 "nbformat_minor": 4
}
